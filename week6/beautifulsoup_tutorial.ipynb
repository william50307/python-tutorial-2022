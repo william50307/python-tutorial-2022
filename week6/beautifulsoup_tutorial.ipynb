{
  "nbformat": 4,
  "nbformat_minor": 0,
  "metadata": {
    "colab": {
      "name": "beautifulsoup tutorial.ipynb",
      "provenance": [],
      "authorship_tag": "ABX9TyPn0ikcjdOoUSUAjOUzrkUe",
      "include_colab_link": true
    },
    "kernelspec": {
      "name": "python3",
      "display_name": "Python 3"
    },
    "language_info": {
      "name": "python"
    }
  },
  "cells": [
    {
      "cell_type": "markdown",
      "metadata": {
        "id": "view-in-github",
        "colab_type": "text"
      },
      "source": [
        "<a href=\"https://colab.research.google.com/github/william50307/python-tutorial-2022/blob/main/week6/beautifulsoup_tutorial.ipynb\" target=\"_parent\"><img src=\"https://colab.research.google.com/assets/colab-badge.svg\" alt=\"Open In Colab\"/></a>"
      ]
    },
    {
      "cell_type": "code",
      "source": [
        "# Avoids scroll-in-the-scroll in the entire Notebook\n",
        "from IPython.display import Javascript\n",
        "def resize_colab_cell():\n",
        "  display(Javascript('google.colab.output.setIframeHeight(0, true, {maxHeight: 300})'))\n",
        "get_ipython().events.register('pre_run_cell', resize_colab_cell)"
      ],
      "metadata": {
        "id": "5RBtJyl4_oDE"
      },
      "execution_count": null,
      "outputs": []
    },
    {
      "cell_type": "code",
      "execution_count": null,
      "metadata": {
        "id": "5zv6gl6rIfe8",
        "colab": {
          "base_uri": "https://localhost:8080/",
          "height": 17
        },
        "outputId": "3f1203af-a82d-4387-afbc-e9fbcdf7f3d3"
      },
      "outputs": [
        {
          "output_type": "display_data",
          "data": {
            "text/plain": [
              "<IPython.core.display.Javascript object>"
            ],
            "application/javascript": [
              "google.colab.output.setIframeHeight(0, true, {maxHeight: 300})"
            ]
          },
          "metadata": {}
        }
      ],
      "source": [
        "import requests as rq\n",
        "from bs4 import BeautifulSoup"
      ]
    },
    {
      "cell_type": "markdown",
      "source": [
        "利用GET方法取得一個網站的內容\n"
      ],
      "metadata": {
        "id": "Ld3bODFeKgxu"
      }
    },
    {
      "cell_type": "code",
      "source": [
        "html = rq.get('https://quotes.toscrape.com/')\n",
        "html.text"
      ],
      "metadata": {
        "colab": {
          "base_uri": "https://localhost:8080/",
          "height": 139
        },
        "id": "mRQ_hdCwJ2nQ",
        "outputId": "e10345d7-f68e-495f-f423-d3e9b7ccac3b"
      },
      "execution_count": null,
      "outputs": [
        {
          "output_type": "display_data",
          "data": {
            "text/plain": [
              "<IPython.core.display.Javascript object>"
            ],
            "application/javascript": [
              "google.colab.output.setIframeHeight(0, true, {maxHeight: 300})"
            ]
          },
          "metadata": {}
        },
        {
          "output_type": "execute_result",
          "data": {
            "text/plain": [
              "'<!DOCTYPE html>\\n<html lang=\"en\">\\n<head>\\n\\t<meta charset=\"UTF-8\">\\n\\t<title>Quotes to Scrape</title>\\n    <link rel=\"stylesheet\" href=\"/static/bootstrap.min.css\">\\n    <link rel=\"stylesheet\" href=\"/static/main.css\">\\n</head>\\n<body>\\n    <div class=\"container\">\\n        <div class=\"row header-box\">\\n            <div class=\"col-md-8\">\\n                <h1>\\n                    <a href=\"/\" style=\"text-decoration: none\">Quotes to Scrape</a>\\n                </h1>\\n            </div>\\n            <div class=\"col-md-4\">\\n                <p>\\n                \\n                    <a href=\"/login\">Login</a>\\n                \\n                </p>\\n            </div>\\n        </div>\\n    \\n\\n<div class=\"row\">\\n    <div class=\"col-md-8\">\\n\\n    <div class=\"quote\" itemscope itemtype=\"http://schema.org/CreativeWork\">\\n        <span class=\"text\" itemprop=\"text\">“The world as we have created it is a process of our thinking. It cannot be changed without changing our thinking.”</span>\\n        <span>by <small class=\"author\" itemprop=\"author\">Albert Einstein</small>\\n        <a href=\"/author/Albert-Einstein\">(about)</a>\\n        </span>\\n        <div class=\"tags\">\\n            Tags:\\n            <meta class=\"keywords\" itemprop=\"keywords\" content=\"change,deep-thoughts,thinking,world\" /    > \\n            \\n            <a class=\"tag\" href=\"/tag/change/page/1/\">change</a>\\n            \\n            <a class=\"tag\" href=\"/tag/deep-thoughts/page/1/\">deep-thoughts</a>\\n            \\n            <a class=\"tag\" href=\"/tag/thinking/page/1/\">thinking</a>\\n            \\n            <a class=\"tag\" href=\"/tag/world/page/1/\">world</a>\\n            \\n        </div>\\n    </div>\\n\\n    <div class=\"quote\" itemscope itemtype=\"http://schema.org/CreativeWork\">\\n        <span class=\"text\" itemprop=\"text\">“It is our choices, Harry, that show what we truly are, far more than our abilities.”</span>\\n        <span>by <small class=\"author\" itemprop=\"author\">J.K. Rowling</small>\\n        <a href=\"/author/J-K-Rowling\">(about)</a>\\n        </span>\\n        <div class=\"tags\">\\n            Tags:\\n            <meta class=\"keywords\" itemprop=\"keywords\" content=\"abilities,choices\" /    > \\n            \\n            <a class=\"tag\" href=\"/tag/abilities/page/1/\">abilities</a>\\n            \\n            <a class=\"tag\" href=\"/tag/choices/page/1/\">choices</a>\\n            \\n        </div>\\n    </div>\\n\\n    <div class=\"quote\" itemscope itemtype=\"http://schema.org/CreativeWork\">\\n        <span class=\"text\" itemprop=\"text\">“There are only two ways to live your life. One is as though nothing is a miracle. The other is as though everything is a miracle.”</span>\\n        <span>by <small class=\"author\" itemprop=\"author\">Albert Einstein</small>\\n        <a href=\"/author/Albert-Einstein\">(about)</a>\\n        </span>\\n        <div class=\"tags\">\\n            Tags:\\n            <meta class=\"keywords\" itemprop=\"keywords\" content=\"inspirational,life,live,miracle,miracles\" /    > \\n            \\n            <a class=\"tag\" href=\"/tag/inspirational/page/1/\">inspirational</a>\\n            \\n            <a class=\"tag\" href=\"/tag/life/page/1/\">life</a>\\n            \\n            <a class=\"tag\" href=\"/tag/live/page/1/\">live</a>\\n            \\n            <a class=\"tag\" href=\"/tag/miracle/page/1/\">miracle</a>\\n            \\n            <a class=\"tag\" href=\"/tag/miracles/page/1/\">miracles</a>\\n            \\n        </div>\\n    </div>\\n\\n    <div class=\"quote\" itemscope itemtype=\"http://schema.org/CreativeWork\">\\n        <span class=\"text\" itemprop=\"text\">“The person, be it gentleman or lady, who has not pleasure in a good novel, must be intolerably stupid.”</span>\\n        <span>by <small class=\"author\" itemprop=\"author\">Jane Austen</small>\\n        <a href=\"/author/Jane-Austen\">(about)</a>\\n        </span>\\n        <div class=\"tags\">\\n            Tags:\\n            <meta class=\"keywords\" itemprop=\"keywords\" content=\"aliteracy,books,classic,humor\" /    > \\n            \\n            <a class=\"tag\" href=\"/tag/aliteracy/page/1/\">aliteracy</a>\\n            \\n            <a class=\"tag\" href=\"/tag/books/page/1/\">books</a>\\n            \\n            <a class=\"tag\" href=\"/tag/classic/page/1/\">classic</a>\\n            \\n            <a class=\"tag\" href=\"/tag/humor/page/1/\">humor</a>\\n            \\n        </div>\\n    </div>\\n\\n    <div class=\"quote\" itemscope itemtype=\"http://schema.org/CreativeWork\">\\n        <span class=\"text\" itemprop=\"text\">“Imperfection is beauty, madness is genius and it&#39;s better to be absolutely ridiculous than absolutely boring.”</span>\\n        <span>by <small class=\"author\" itemprop=\"author\">Marilyn Monroe</small>\\n        <a href=\"/author/Marilyn-Monroe\">(about)</a>\\n        </span>\\n        <div class=\"tags\">\\n            Tags:\\n            <meta class=\"keywords\" itemprop=\"keywords\" content=\"be-yourself,inspirational\" /    > \\n            \\n            <a class=\"tag\" href=\"/tag/be-yourself/page/1/\">be-yourself</a>\\n            \\n            <a class=\"tag\" href=\"/tag/inspirational/page/1/\">inspirational</a>\\n            \\n        </div>\\n    </div>\\n\\n    <div class=\"quote\" itemscope itemtype=\"http://schema.org/CreativeWork\">\\n        <span class=\"text\" itemprop=\"text\">“Try not to become a man of success. Rather become a man of value.”</span>\\n        <span>by <small class=\"author\" itemprop=\"author\">Albert Einstein</small>\\n        <a href=\"/author/Albert-Einstein\">(about)</a>\\n        </span>\\n        <div class=\"tags\">\\n            Tags:\\n            <meta class=\"keywords\" itemprop=\"keywords\" content=\"adulthood,success,value\" /    > \\n            \\n            <a class=\"tag\" href=\"/tag/adulthood/page/1/\">adulthood</a>\\n            \\n            <a class=\"tag\" href=\"/tag/success/page/1/\">success</a>\\n            \\n            <a class=\"tag\" href=\"/tag/value/page/1/\">value</a>\\n            \\n        </div>\\n    </div>\\n\\n    <div class=\"quote\" itemscope itemtype=\"http://schema.org/CreativeWork\">\\n        <span class=\"text\" itemprop=\"text\">“It is better to be hated for what you are than to be loved for what you are not.”</span>\\n        <span>by <small class=\"author\" itemprop=\"author\">André Gide</small>\\n        <a href=\"/author/Andre-Gide\">(about)</a>\\n        </span>\\n        <div class=\"tags\">\\n            Tags:\\n            <meta class=\"keywords\" itemprop=\"keywords\" content=\"life,love\" /    > \\n            \\n            <a class=\"tag\" href=\"/tag/life/page/1/\">life</a>\\n            \\n            <a class=\"tag\" href=\"/tag/love/page/1/\">love</a>\\n            \\n        </div>\\n    </div>\\n\\n    <div class=\"quote\" itemscope itemtype=\"http://schema.org/CreativeWork\">\\n        <span class=\"text\" itemprop=\"text\">“I have not failed. I&#39;ve just found 10,000 ways that won&#39;t work.”</span>\\n        <span>by <small class=\"author\" itemprop=\"author\">Thomas A. Edison</small>\\n        <a href=\"/author/Thomas-A-Edison\">(about)</a>\\n        </span>\\n        <div class=\"tags\">\\n            Tags:\\n            <meta class=\"keywords\" itemprop=\"keywords\" content=\"edison,failure,inspirational,paraphrased\" /    > \\n            \\n            <a class=\"tag\" href=\"/tag/edison/page/1/\">edison</a>\\n            \\n            <a class=\"tag\" href=\"/tag/failure/page/1/\">failure</a>\\n            \\n            <a class=\"tag\" href=\"/tag/inspirational/page/1/\">inspirational</a>\\n            \\n            <a class=\"tag\" href=\"/tag/paraphrased/page/1/\">paraphrased</a>\\n            \\n        </div>\\n    </div>\\n\\n    <div class=\"quote\" itemscope itemtype=\"http://schema.org/CreativeWork\">\\n        <span class=\"text\" itemprop=\"text\">“A woman is like a tea bag; you never know how strong it is until it&#39;s in hot water.”</span>\\n        <span>by <small class=\"author\" itemprop=\"author\">Eleanor Roosevelt</small>\\n        <a href=\"/author/Eleanor-Roosevelt\">(about)</a>\\n        </span>\\n        <div class=\"tags\">\\n            Tags:\\n            <meta class=\"keywords\" itemprop=\"keywords\" content=\"misattributed-eleanor-roosevelt\" /    > \\n            \\n            <a class=\"tag\" href=\"/tag/misattributed-eleanor-roosevelt/page/1/\">misattributed-eleanor-roosevelt</a>\\n            \\n        </div>\\n    </div>\\n\\n    <div class=\"quote\" itemscope itemtype=\"http://schema.org/CreativeWork\">\\n        <span class=\"text\" itemprop=\"text\">“A day without sunshine is like, you know, night.”</span>\\n        <span>by <small class=\"author\" itemprop=\"author\">Steve Martin</small>\\n        <a href=\"/author/Steve-Martin\">(about)</a>\\n        </span>\\n        <div class=\"tags\">\\n            Tags:\\n            <meta class=\"keywords\" itemprop=\"keywords\" content=\"humor,obvious,simile\" /    > \\n            \\n            <a class=\"tag\" href=\"/tag/humor/page/1/\">humor</a>\\n            \\n            <a class=\"tag\" href=\"/tag/obvious/page/1/\">obvious</a>\\n            \\n            <a class=\"tag\" href=\"/tag/simile/page/1/\">simile</a>\\n            \\n        </div>\\n    </div>\\n\\n    <nav>\\n        <ul class=\"pager\">\\n            \\n            \\n            <li class=\"next\">\\n                <a href=\"/page/2/\">Next <span aria-hidden=\"true\">&rarr;</span></a>\\n            </li>\\n            \\n        </ul>\\n    </nav>\\n    </div>\\n    <div class=\"col-md-4 tags-box\">\\n        \\n            <h2>Top Ten tags</h2>\\n            \\n            <span class=\"tag-item\">\\n            <a class=\"tag\" style=\"font-size: 28px\" href=\"/tag/love/\">love</a>\\n            </span>\\n            \\n            <span class=\"tag-item\">\\n            <a class=\"tag\" style=\"font-size: 26px\" href=\"/tag/inspirational/\">inspirational</a>\\n            </span>\\n            \\n            <span class=\"tag-item\">\\n            <a class=\"tag\" style=\"font-size: 26px\" href=\"/tag/life/\">life</a>\\n            </span>\\n            \\n            <span class=\"tag-item\">\\n            <a class=\"tag\" style=\"font-size: 24px\" href=\"/tag/humor/\">humor</a>\\n            </span>\\n            \\n            <span class=\"tag-item\">\\n            <a class=\"tag\" style=\"font-size: 22px\" href=\"/tag/books/\">books</a>\\n            </span>\\n            \\n            <span class=\"tag-item\">\\n            <a class=\"tag\" style=\"font-size: 14px\" href=\"/tag/reading/\">reading</a>\\n            </span>\\n            \\n            <span class=\"tag-item\">\\n            <a class=\"tag\" style=\"font-size: 10px\" href=\"/tag/friendship/\">friendship</a>\\n            </span>\\n            \\n            <span class=\"tag-item\">\\n            <a class=\"tag\" style=\"font-size: 8px\" href=\"/tag/friends/\">friends</a>\\n            </span>\\n            \\n            <span class=\"tag-item\">\\n            <a class=\"tag\" style=\"font-size: 8px\" href=\"/tag/truth/\">truth</a>\\n            </span>\\n            \\n            <span class=\"tag-item\">\\n            <a class=\"tag\" style=\"font-size: 6px\" href=\"/tag/simile/\">simile</a>\\n            </span>\\n            \\n        \\n    </div>\\n</div>\\n\\n    </div>\\n    <footer class=\"footer\">\\n        <div class=\"container\">\\n            <p class=\"text-muted\">\\n                Quotes by: <a href=\"https://www.goodreads.com/quotes\">GoodReads.com</a>\\n            </p>\\n            <p class=\"copyright\">\\n                Made with <span class=\\'sh-red\\'>❤</span> by <a href=\"https://scrapinghub.com\">Scrapinghub</a>\\n            </p>\\n        </div>\\n    </footer>\\n</body>\\n</html>'"
            ],
            "application/vnd.google.colaboratory.intrinsic+json": {
              "type": "string"
            }
          },
          "metadata": {},
          "execution_count": 4
        }
      ]
    },
    {
      "cell_type": "code",
      "source": [
        "soup = BeautifulSoup(html.text, 'html.parser')\n",
        "soup"
      ],
      "metadata": {
        "colab": {
          "base_uri": "https://localhost:8080/",
          "height": 300
        },
        "id": "iq1Lw215LiLU",
        "outputId": "9f35aa3d-c2e2-4ea4-dbf8-5da8e6455fa0"
      },
      "execution_count": null,
      "outputs": [
        {
          "output_type": "display_data",
          "data": {
            "text/plain": [
              "<IPython.core.display.Javascript object>"
            ],
            "application/javascript": [
              "google.colab.output.setIframeHeight(0, true, {maxHeight: 300})"
            ]
          },
          "metadata": {}
        },
        {
          "output_type": "execute_result",
          "data": {
            "text/plain": [
              "<!DOCTYPE html>\n",
              "\n",
              "<html lang=\"en\">\n",
              "<head>\n",
              "<meta charset=\"utf-8\"/>\n",
              "<title>Quotes to Scrape</title>\n",
              "<link href=\"/static/bootstrap.min.css\" rel=\"stylesheet\"/>\n",
              "<link href=\"/static/main.css\" rel=\"stylesheet\"/>\n",
              "</head>\n",
              "<body>\n",
              "<div class=\"container\">\n",
              "<div class=\"row header-box\">\n",
              "<div class=\"col-md-8\">\n",
              "<h1>\n",
              "<a href=\"/\" style=\"text-decoration: none\">Quotes to Scrape</a>\n",
              "</h1>\n",
              "</div>\n",
              "<div class=\"col-md-4\">\n",
              "<p>\n",
              "<a href=\"/login\">Login</a>\n",
              "</p>\n",
              "</div>\n",
              "</div>\n",
              "<div class=\"row\">\n",
              "<div class=\"col-md-8\">\n",
              "<div class=\"quote\" itemscope=\"\" itemtype=\"http://schema.org/CreativeWork\">\n",
              "<span class=\"text\" itemprop=\"text\">“The world as we have created it is a process of our thinking. It cannot be changed without changing our thinking.”</span>\n",
              "<span>by <small class=\"author\" itemprop=\"author\">Albert Einstein</small>\n",
              "<a href=\"/author/Albert-Einstein\">(about)</a>\n",
              "</span>\n",
              "<div class=\"tags\">\n",
              "            Tags:\n",
              "            <meta class=\"keywords\" content=\"change,deep-thoughts,thinking,world\" itemprop=\"keywords\"/>\n",
              "<a class=\"tag\" href=\"/tag/change/page/1/\">change</a>\n",
              "<a class=\"tag\" href=\"/tag/deep-thoughts/page/1/\">deep-thoughts</a>\n",
              "<a class=\"tag\" href=\"/tag/thinking/page/1/\">thinking</a>\n",
              "<a class=\"tag\" href=\"/tag/world/page/1/\">world</a>\n",
              "</div>\n",
              "</div>\n",
              "<div class=\"quote\" itemscope=\"\" itemtype=\"http://schema.org/CreativeWork\">\n",
              "<span class=\"text\" itemprop=\"text\">“It is our choices, Harry, that show what we truly are, far more than our abilities.”</span>\n",
              "<span>by <small class=\"author\" itemprop=\"author\">J.K. Rowling</small>\n",
              "<a href=\"/author/J-K-Rowling\">(about)</a>\n",
              "</span>\n",
              "<div class=\"tags\">\n",
              "            Tags:\n",
              "            <meta class=\"keywords\" content=\"abilities,choices\" itemprop=\"keywords\"/>\n",
              "<a class=\"tag\" href=\"/tag/abilities/page/1/\">abilities</a>\n",
              "<a class=\"tag\" href=\"/tag/choices/page/1/\">choices</a>\n",
              "</div>\n",
              "</div>\n",
              "<div class=\"quote\" itemscope=\"\" itemtype=\"http://schema.org/CreativeWork\">\n",
              "<span class=\"text\" itemprop=\"text\">“There are only two ways to live your life. One is as though nothing is a miracle. The other is as though everything is a miracle.”</span>\n",
              "<span>by <small class=\"author\" itemprop=\"author\">Albert Einstein</small>\n",
              "<a href=\"/author/Albert-Einstein\">(about)</a>\n",
              "</span>\n",
              "<div class=\"tags\">\n",
              "            Tags:\n",
              "            <meta class=\"keywords\" content=\"inspirational,life,live,miracle,miracles\" itemprop=\"keywords\"/>\n",
              "<a class=\"tag\" href=\"/tag/inspirational/page/1/\">inspirational</a>\n",
              "<a class=\"tag\" href=\"/tag/life/page/1/\">life</a>\n",
              "<a class=\"tag\" href=\"/tag/live/page/1/\">live</a>\n",
              "<a class=\"tag\" href=\"/tag/miracle/page/1/\">miracle</a>\n",
              "<a class=\"tag\" href=\"/tag/miracles/page/1/\">miracles</a>\n",
              "</div>\n",
              "</div>\n",
              "<div class=\"quote\" itemscope=\"\" itemtype=\"http://schema.org/CreativeWork\">\n",
              "<span class=\"text\" itemprop=\"text\">“The person, be it gentleman or lady, who has not pleasure in a good novel, must be intolerably stupid.”</span>\n",
              "<span>by <small class=\"author\" itemprop=\"author\">Jane Austen</small>\n",
              "<a href=\"/author/Jane-Austen\">(about)</a>\n",
              "</span>\n",
              "<div class=\"tags\">\n",
              "            Tags:\n",
              "            <meta class=\"keywords\" content=\"aliteracy,books,classic,humor\" itemprop=\"keywords\"/>\n",
              "<a class=\"tag\" href=\"/tag/aliteracy/page/1/\">aliteracy</a>\n",
              "<a class=\"tag\" href=\"/tag/books/page/1/\">books</a>\n",
              "<a class=\"tag\" href=\"/tag/classic/page/1/\">classic</a>\n",
              "<a class=\"tag\" href=\"/tag/humor/page/1/\">humor</a>\n",
              "</div>\n",
              "</div>\n",
              "<div class=\"quote\" itemscope=\"\" itemtype=\"http://schema.org/CreativeWork\">\n",
              "<span class=\"text\" itemprop=\"text\">“Imperfection is beauty, madness is genius and it's better to be absolutely ridiculous than absolutely boring.”</span>\n",
              "<span>by <small class=\"author\" itemprop=\"author\">Marilyn Monroe</small>\n",
              "<a href=\"/author/Marilyn-Monroe\">(about)</a>\n",
              "</span>\n",
              "<div class=\"tags\">\n",
              "            Tags:\n",
              "            <meta class=\"keywords\" content=\"be-yourself,inspirational\" itemprop=\"keywords\"/>\n",
              "<a class=\"tag\" href=\"/tag/be-yourself/page/1/\">be-yourself</a>\n",
              "<a class=\"tag\" href=\"/tag/inspirational/page/1/\">inspirational</a>\n",
              "</div>\n",
              "</div>\n",
              "<div class=\"quote\" itemscope=\"\" itemtype=\"http://schema.org/CreativeWork\">\n",
              "<span class=\"text\" itemprop=\"text\">“Try not to become a man of success. Rather become a man of value.”</span>\n",
              "<span>by <small class=\"author\" itemprop=\"author\">Albert Einstein</small>\n",
              "<a href=\"/author/Albert-Einstein\">(about)</a>\n",
              "</span>\n",
              "<div class=\"tags\">\n",
              "            Tags:\n",
              "            <meta class=\"keywords\" content=\"adulthood,success,value\" itemprop=\"keywords\"/>\n",
              "<a class=\"tag\" href=\"/tag/adulthood/page/1/\">adulthood</a>\n",
              "<a class=\"tag\" href=\"/tag/success/page/1/\">success</a>\n",
              "<a class=\"tag\" href=\"/tag/value/page/1/\">value</a>\n",
              "</div>\n",
              "</div>\n",
              "<div class=\"quote\" itemscope=\"\" itemtype=\"http://schema.org/CreativeWork\">\n",
              "<span class=\"text\" itemprop=\"text\">“It is better to be hated for what you are than to be loved for what you are not.”</span>\n",
              "<span>by <small class=\"author\" itemprop=\"author\">André Gide</small>\n",
              "<a href=\"/author/Andre-Gide\">(about)</a>\n",
              "</span>\n",
              "<div class=\"tags\">\n",
              "            Tags:\n",
              "            <meta class=\"keywords\" content=\"life,love\" itemprop=\"keywords\"/>\n",
              "<a class=\"tag\" href=\"/tag/life/page/1/\">life</a>\n",
              "<a class=\"tag\" href=\"/tag/love/page/1/\">love</a>\n",
              "</div>\n",
              "</div>\n",
              "<div class=\"quote\" itemscope=\"\" itemtype=\"http://schema.org/CreativeWork\">\n",
              "<span class=\"text\" itemprop=\"text\">“I have not failed. I've just found 10,000 ways that won't work.”</span>\n",
              "<span>by <small class=\"author\" itemprop=\"author\">Thomas A. Edison</small>\n",
              "<a href=\"/author/Thomas-A-Edison\">(about)</a>\n",
              "</span>\n",
              "<div class=\"tags\">\n",
              "            Tags:\n",
              "            <meta class=\"keywords\" content=\"edison,failure,inspirational,paraphrased\" itemprop=\"keywords\"/>\n",
              "<a class=\"tag\" href=\"/tag/edison/page/1/\">edison</a>\n",
              "<a class=\"tag\" href=\"/tag/failure/page/1/\">failure</a>\n",
              "<a class=\"tag\" href=\"/tag/inspirational/page/1/\">inspirational</a>\n",
              "<a class=\"tag\" href=\"/tag/paraphrased/page/1/\">paraphrased</a>\n",
              "</div>\n",
              "</div>\n",
              "<div class=\"quote\" itemscope=\"\" itemtype=\"http://schema.org/CreativeWork\">\n",
              "<span class=\"text\" itemprop=\"text\">“A woman is like a tea bag; you never know how strong it is until it's in hot water.”</span>\n",
              "<span>by <small class=\"author\" itemprop=\"author\">Eleanor Roosevelt</small>\n",
              "<a href=\"/author/Eleanor-Roosevelt\">(about)</a>\n",
              "</span>\n",
              "<div class=\"tags\">\n",
              "            Tags:\n",
              "            <meta class=\"keywords\" content=\"misattributed-eleanor-roosevelt\" itemprop=\"keywords\"/>\n",
              "<a class=\"tag\" href=\"/tag/misattributed-eleanor-roosevelt/page/1/\">misattributed-eleanor-roosevelt</a>\n",
              "</div>\n",
              "</div>\n",
              "<div class=\"quote\" itemscope=\"\" itemtype=\"http://schema.org/CreativeWork\">\n",
              "<span class=\"text\" itemprop=\"text\">“A day without sunshine is like, you know, night.”</span>\n",
              "<span>by <small class=\"author\" itemprop=\"author\">Steve Martin</small>\n",
              "<a href=\"/author/Steve-Martin\">(about)</a>\n",
              "</span>\n",
              "<div class=\"tags\">\n",
              "            Tags:\n",
              "            <meta class=\"keywords\" content=\"humor,obvious,simile\" itemprop=\"keywords\"/>\n",
              "<a class=\"tag\" href=\"/tag/humor/page/1/\">humor</a>\n",
              "<a class=\"tag\" href=\"/tag/obvious/page/1/\">obvious</a>\n",
              "<a class=\"tag\" href=\"/tag/simile/page/1/\">simile</a>\n",
              "</div>\n",
              "</div>\n",
              "<nav>\n",
              "<ul class=\"pager\">\n",
              "<li class=\"next\">\n",
              "<a href=\"/page/2/\">Next <span aria-hidden=\"true\">→</span></a>\n",
              "</li>\n",
              "</ul>\n",
              "</nav>\n",
              "</div>\n",
              "<div class=\"col-md-4 tags-box\">\n",
              "<h2>Top Ten tags</h2>\n",
              "<span class=\"tag-item\">\n",
              "<a class=\"tag\" href=\"/tag/love/\" style=\"font-size: 28px\">love</a>\n",
              "</span>\n",
              "<span class=\"tag-item\">\n",
              "<a class=\"tag\" href=\"/tag/inspirational/\" style=\"font-size: 26px\">inspirational</a>\n",
              "</span>\n",
              "<span class=\"tag-item\">\n",
              "<a class=\"tag\" href=\"/tag/life/\" style=\"font-size: 26px\">life</a>\n",
              "</span>\n",
              "<span class=\"tag-item\">\n",
              "<a class=\"tag\" href=\"/tag/humor/\" style=\"font-size: 24px\">humor</a>\n",
              "</span>\n",
              "<span class=\"tag-item\">\n",
              "<a class=\"tag\" href=\"/tag/books/\" style=\"font-size: 22px\">books</a>\n",
              "</span>\n",
              "<span class=\"tag-item\">\n",
              "<a class=\"tag\" href=\"/tag/reading/\" style=\"font-size: 14px\">reading</a>\n",
              "</span>\n",
              "<span class=\"tag-item\">\n",
              "<a class=\"tag\" href=\"/tag/friendship/\" style=\"font-size: 10px\">friendship</a>\n",
              "</span>\n",
              "<span class=\"tag-item\">\n",
              "<a class=\"tag\" href=\"/tag/friends/\" style=\"font-size: 8px\">friends</a>\n",
              "</span>\n",
              "<span class=\"tag-item\">\n",
              "<a class=\"tag\" href=\"/tag/truth/\" style=\"font-size: 8px\">truth</a>\n",
              "</span>\n",
              "<span class=\"tag-item\">\n",
              "<a class=\"tag\" href=\"/tag/simile/\" style=\"font-size: 6px\">simile</a>\n",
              "</span>\n",
              "</div>\n",
              "</div>\n",
              "</div>\n",
              "<footer class=\"footer\">\n",
              "<div class=\"container\">\n",
              "<p class=\"text-muted\">\n",
              "                Quotes by: <a href=\"https://www.goodreads.com/quotes\">GoodReads.com</a>\n",
              "</p>\n",
              "<p class=\"copyright\">\n",
              "                Made with <span class=\"sh-red\">❤</span> by <a href=\"https://scrapinghub.com\">Scrapinghub</a>\n",
              "</p>\n",
              "</div>\n",
              "</footer>\n",
              "</body>\n",
              "</html>"
            ]
          },
          "metadata": {},
          "execution_count": 5
        }
      ]
    },
    {
      "cell_type": "markdown",
      "source": [
        "我們可以查看經過整理的html結構"
      ],
      "metadata": {
        "id": "N8dbJnl98GC1"
      }
    },
    {
      "cell_type": "code",
      "source": [
        "print(soup.prettify())"
      ],
      "metadata": {
        "colab": {
          "base_uri": "https://localhost:8080/",
          "height": 300
        },
        "id": "1XTNVbj27BY4",
        "outputId": "9d27bbb8-61a5-43f3-93f8-77622d01f4d8"
      },
      "execution_count": null,
      "outputs": [
        {
          "output_type": "display_data",
          "data": {
            "text/plain": [
              "<IPython.core.display.Javascript object>"
            ],
            "application/javascript": [
              "google.colab.output.setIframeHeight(0, true, {maxHeight: 100})"
            ]
          },
          "metadata": {}
        },
        {
          "output_type": "display_data",
          "data": {
            "text/plain": [
              "<IPython.core.display.Javascript object>"
            ],
            "application/javascript": [
              "google.colab.output.setIframeHeight(0, true, {maxHeight: 500})"
            ]
          },
          "metadata": {}
        },
        {
          "output_type": "display_data",
          "data": {
            "text/plain": [
              "<IPython.core.display.Javascript object>"
            ],
            "application/javascript": [
              "google.colab.output.setIframeHeight(0, true, {maxHeight: 300})"
            ]
          },
          "metadata": {}
        },
        {
          "output_type": "stream",
          "name": "stdout",
          "text": [
            "<!DOCTYPE html>\n",
            "<html lang=\"en\">\n",
            " <head>\n",
            "  <meta charset=\"utf-8\"/>\n",
            "  <title>\n",
            "   Quotes to Scrape\n",
            "  </title>\n",
            "  <link href=\"/static/bootstrap.min.css\" rel=\"stylesheet\"/>\n",
            "  <link href=\"/static/main.css\" rel=\"stylesheet\"/>\n",
            " </head>\n",
            " <body>\n",
            "  <div class=\"container\">\n",
            "   <div class=\"row header-box\">\n",
            "    <div class=\"col-md-8\">\n",
            "     <h1>\n",
            "      <a href=\"/\" style=\"text-decoration: none\">\n",
            "       Quotes to Scrape\n",
            "      </a>\n",
            "     </h1>\n",
            "    </div>\n",
            "    <div class=\"col-md-4\">\n",
            "     <p>\n",
            "      <a href=\"/login\">\n",
            "       Login\n",
            "      </a>\n",
            "     </p>\n",
            "    </div>\n",
            "   </div>\n",
            "   <div class=\"row\">\n",
            "    <div class=\"col-md-8\">\n",
            "     <div class=\"quote\" itemscope=\"\" itemtype=\"http://schema.org/CreativeWork\">\n",
            "      <span class=\"text\" itemprop=\"text\">\n",
            "       “The world as we have created it is a process of our thinking. It cannot be changed without changing our thinking.”\n",
            "      </span>\n",
            "      <span>\n",
            "       by\n",
            "       <small class=\"author\" itemprop=\"author\">\n",
            "        Albert Einstein\n",
            "       </small>\n",
            "       <a href=\"/author/Albert-Einstein\">\n",
            "        (about)\n",
            "       </a>\n",
            "      </span>\n",
            "      <div class=\"tags\">\n",
            "       Tags:\n",
            "       <meta class=\"keywords\" content=\"change,deep-thoughts,thinking,world\" itemprop=\"keywords\"/>\n",
            "       <a class=\"tag\" href=\"/tag/change/page/1/\">\n",
            "        change\n",
            "       </a>\n",
            "       <a class=\"tag\" href=\"/tag/deep-thoughts/page/1/\">\n",
            "        deep-thoughts\n",
            "       </a>\n",
            "       <a class=\"tag\" href=\"/tag/thinking/page/1/\">\n",
            "        thinking\n",
            "       </a>\n",
            "       <a class=\"tag\" href=\"/tag/world/page/1/\">\n",
            "        world\n",
            "       </a>\n",
            "      </div>\n",
            "     </div>\n",
            "     <div class=\"quote\" itemscope=\"\" itemtype=\"http://schema.org/CreativeWork\">\n",
            "      <span class=\"text\" itemprop=\"text\">\n",
            "       “It is our choices, Harry, that show what we truly are, far more than our abilities.”\n",
            "      </span>\n",
            "      <span>\n",
            "       by\n",
            "       <small class=\"author\" itemprop=\"author\">\n",
            "        J.K. Rowling\n",
            "       </small>\n",
            "       <a href=\"/author/J-K-Rowling\">\n",
            "        (about)\n",
            "       </a>\n",
            "      </span>\n",
            "      <div class=\"tags\">\n",
            "       Tags:\n",
            "       <meta class=\"keywords\" content=\"abilities,choices\" itemprop=\"keywords\"/>\n",
            "       <a class=\"tag\" href=\"/tag/abilities/page/1/\">\n",
            "        abilities\n",
            "       </a>\n",
            "       <a class=\"tag\" href=\"/tag/choices/page/1/\">\n",
            "        choices\n",
            "       </a>\n",
            "      </div>\n",
            "     </div>\n",
            "     <div class=\"quote\" itemscope=\"\" itemtype=\"http://schema.org/CreativeWork\">\n",
            "      <span class=\"text\" itemprop=\"text\">\n",
            "       “There are only two ways to live your life. One is as though nothing is a miracle. The other is as though everything is a miracle.”\n",
            "      </span>\n",
            "      <span>\n",
            "       by\n",
            "       <small class=\"author\" itemprop=\"author\">\n",
            "        Albert Einstein\n",
            "       </small>\n",
            "       <a href=\"/author/Albert-Einstein\">\n",
            "        (about)\n",
            "       </a>\n",
            "      </span>\n",
            "      <div class=\"tags\">\n",
            "       Tags:\n",
            "       <meta class=\"keywords\" content=\"inspirational,life,live,miracle,miracles\" itemprop=\"keywords\"/>\n",
            "       <a class=\"tag\" href=\"/tag/inspirational/page/1/\">\n",
            "        inspirational\n",
            "       </a>\n",
            "       <a class=\"tag\" href=\"/tag/life/page/1/\">\n",
            "        life\n",
            "       </a>\n",
            "       <a class=\"tag\" href=\"/tag/live/page/1/\">\n",
            "        live\n",
            "       </a>\n",
            "       <a class=\"tag\" href=\"/tag/miracle/page/1/\">\n",
            "        miracle\n",
            "       </a>\n",
            "       <a class=\"tag\" href=\"/tag/miracles/page/1/\">\n",
            "        miracles\n",
            "       </a>\n",
            "      </div>\n",
            "     </div>\n",
            "     <div class=\"quote\" itemscope=\"\" itemtype=\"http://schema.org/CreativeWork\">\n",
            "      <span class=\"text\" itemprop=\"text\">\n",
            "       “The person, be it gentleman or lady, who has not pleasure in a good novel, must be intolerably stupid.”\n",
            "      </span>\n",
            "      <span>\n",
            "       by\n",
            "       <small class=\"author\" itemprop=\"author\">\n",
            "        Jane Austen\n",
            "       </small>\n",
            "       <a href=\"/author/Jane-Austen\">\n",
            "        (about)\n",
            "       </a>\n",
            "      </span>\n",
            "      <div class=\"tags\">\n",
            "       Tags:\n",
            "       <meta class=\"keywords\" content=\"aliteracy,books,classic,humor\" itemprop=\"keywords\"/>\n",
            "       <a class=\"tag\" href=\"/tag/aliteracy/page/1/\">\n",
            "        aliteracy\n",
            "       </a>\n",
            "       <a class=\"tag\" href=\"/tag/books/page/1/\">\n",
            "        books\n",
            "       </a>\n",
            "       <a class=\"tag\" href=\"/tag/classic/page/1/\">\n",
            "        classic\n",
            "       </a>\n",
            "       <a class=\"tag\" href=\"/tag/humor/page/1/\">\n",
            "        humor\n",
            "       </a>\n",
            "      </div>\n",
            "     </div>\n",
            "     <div class=\"quote\" itemscope=\"\" itemtype=\"http://schema.org/CreativeWork\">\n",
            "      <span class=\"text\" itemprop=\"text\">\n",
            "       “Imperfection is beauty, madness is genius and it's better to be absolutely ridiculous than absolutely boring.”\n",
            "      </span>\n",
            "      <span>\n",
            "       by\n",
            "       <small class=\"author\" itemprop=\"author\">\n",
            "        Marilyn Monroe\n",
            "       </small>\n",
            "       <a href=\"/author/Marilyn-Monroe\">\n",
            "        (about)\n",
            "       </a>\n",
            "      </span>\n",
            "      <div class=\"tags\">\n",
            "       Tags:\n",
            "       <meta class=\"keywords\" content=\"be-yourself,inspirational\" itemprop=\"keywords\"/>\n",
            "       <a class=\"tag\" href=\"/tag/be-yourself/page/1/\">\n",
            "        be-yourself\n",
            "       </a>\n",
            "       <a class=\"tag\" href=\"/tag/inspirational/page/1/\">\n",
            "        inspirational\n",
            "       </a>\n",
            "      </div>\n",
            "     </div>\n",
            "     <div class=\"quote\" itemscope=\"\" itemtype=\"http://schema.org/CreativeWork\">\n",
            "      <span class=\"text\" itemprop=\"text\">\n",
            "       “Try not to become a man of success. Rather become a man of value.”\n",
            "      </span>\n",
            "      <span>\n",
            "       by\n",
            "       <small class=\"author\" itemprop=\"author\">\n",
            "        Albert Einstein\n",
            "       </small>\n",
            "       <a href=\"/author/Albert-Einstein\">\n",
            "        (about)\n",
            "       </a>\n",
            "      </span>\n",
            "      <div class=\"tags\">\n",
            "       Tags:\n",
            "       <meta class=\"keywords\" content=\"adulthood,success,value\" itemprop=\"keywords\"/>\n",
            "       <a class=\"tag\" href=\"/tag/adulthood/page/1/\">\n",
            "        adulthood\n",
            "       </a>\n",
            "       <a class=\"tag\" href=\"/tag/success/page/1/\">\n",
            "        success\n",
            "       </a>\n",
            "       <a class=\"tag\" href=\"/tag/value/page/1/\">\n",
            "        value\n",
            "       </a>\n",
            "      </div>\n",
            "     </div>\n",
            "     <div class=\"quote\" itemscope=\"\" itemtype=\"http://schema.org/CreativeWork\">\n",
            "      <span class=\"text\" itemprop=\"text\">\n",
            "       “It is better to be hated for what you are than to be loved for what you are not.”\n",
            "      </span>\n",
            "      <span>\n",
            "       by\n",
            "       <small class=\"author\" itemprop=\"author\">\n",
            "        André Gide\n",
            "       </small>\n",
            "       <a href=\"/author/Andre-Gide\">\n",
            "        (about)\n",
            "       </a>\n",
            "      </span>\n",
            "      <div class=\"tags\">\n",
            "       Tags:\n",
            "       <meta class=\"keywords\" content=\"life,love\" itemprop=\"keywords\"/>\n",
            "       <a class=\"tag\" href=\"/tag/life/page/1/\">\n",
            "        life\n",
            "       </a>\n",
            "       <a class=\"tag\" href=\"/tag/love/page/1/\">\n",
            "        love\n",
            "       </a>\n",
            "      </div>\n",
            "     </div>\n",
            "     <div class=\"quote\" itemscope=\"\" itemtype=\"http://schema.org/CreativeWork\">\n",
            "      <span class=\"text\" itemprop=\"text\">\n",
            "       “I have not failed. I've just found 10,000 ways that won't work.”\n",
            "      </span>\n",
            "      <span>\n",
            "       by\n",
            "       <small class=\"author\" itemprop=\"author\">\n",
            "        Thomas A. Edison\n",
            "       </small>\n",
            "       <a href=\"/author/Thomas-A-Edison\">\n",
            "        (about)\n",
            "       </a>\n",
            "      </span>\n",
            "      <div class=\"tags\">\n",
            "       Tags:\n",
            "       <meta class=\"keywords\" content=\"edison,failure,inspirational,paraphrased\" itemprop=\"keywords\"/>\n",
            "       <a class=\"tag\" href=\"/tag/edison/page/1/\">\n",
            "        edison\n",
            "       </a>\n",
            "       <a class=\"tag\" href=\"/tag/failure/page/1/\">\n",
            "        failure\n",
            "       </a>\n",
            "       <a class=\"tag\" href=\"/tag/inspirational/page/1/\">\n",
            "        inspirational\n",
            "       </a>\n",
            "       <a class=\"tag\" href=\"/tag/paraphrased/page/1/\">\n",
            "        paraphrased\n",
            "       </a>\n",
            "      </div>\n",
            "     </div>\n",
            "     <div class=\"quote\" itemscope=\"\" itemtype=\"http://schema.org/CreativeWork\">\n",
            "      <span class=\"text\" itemprop=\"text\">\n",
            "       “A woman is like a tea bag; you never know how strong it is until it's in hot water.”\n",
            "      </span>\n",
            "      <span>\n",
            "       by\n",
            "       <small class=\"author\" itemprop=\"author\">\n",
            "        Eleanor Roosevelt\n",
            "       </small>\n",
            "       <a href=\"/author/Eleanor-Roosevelt\">\n",
            "        (about)\n",
            "       </a>\n",
            "      </span>\n",
            "      <div class=\"tags\">\n",
            "       Tags:\n",
            "       <meta class=\"keywords\" content=\"misattributed-eleanor-roosevelt\" itemprop=\"keywords\"/>\n",
            "       <a class=\"tag\" href=\"/tag/misattributed-eleanor-roosevelt/page/1/\">\n",
            "        misattributed-eleanor-roosevelt\n",
            "       </a>\n",
            "      </div>\n",
            "     </div>\n",
            "     <div class=\"quote\" itemscope=\"\" itemtype=\"http://schema.org/CreativeWork\">\n",
            "      <span class=\"text\" itemprop=\"text\">\n",
            "       “A day without sunshine is like, you know, night.”\n",
            "      </span>\n",
            "      <span>\n",
            "       by\n",
            "       <small class=\"author\" itemprop=\"author\">\n",
            "        Steve Martin\n",
            "       </small>\n",
            "       <a href=\"/author/Steve-Martin\">\n",
            "        (about)\n",
            "       </a>\n",
            "      </span>\n",
            "      <div class=\"tags\">\n",
            "       Tags:\n",
            "       <meta class=\"keywords\" content=\"humor,obvious,simile\" itemprop=\"keywords\"/>\n",
            "       <a class=\"tag\" href=\"/tag/humor/page/1/\">\n",
            "        humor\n",
            "       </a>\n",
            "       <a class=\"tag\" href=\"/tag/obvious/page/1/\">\n",
            "        obvious\n",
            "       </a>\n",
            "       <a class=\"tag\" href=\"/tag/simile/page/1/\">\n",
            "        simile\n",
            "       </a>\n",
            "      </div>\n",
            "     </div>\n",
            "     <nav>\n",
            "      <ul class=\"pager\">\n",
            "       <li class=\"next\">\n",
            "        <a href=\"/page/2/\">\n",
            "         Next\n",
            "         <span aria-hidden=\"true\">\n",
            "          →\n",
            "         </span>\n",
            "        </a>\n",
            "       </li>\n",
            "      </ul>\n",
            "     </nav>\n",
            "    </div>\n",
            "    <div class=\"col-md-4 tags-box\">\n",
            "     <h2>\n",
            "      Top Ten tags\n",
            "     </h2>\n",
            "     <span class=\"tag-item\">\n",
            "      <a class=\"tag\" href=\"/tag/love/\" style=\"font-size: 28px\">\n",
            "       love\n",
            "      </a>\n",
            "     </span>\n",
            "     <span class=\"tag-item\">\n",
            "      <a class=\"tag\" href=\"/tag/inspirational/\" style=\"font-size: 26px\">\n",
            "       inspirational\n",
            "      </a>\n",
            "     </span>\n",
            "     <span class=\"tag-item\">\n",
            "      <a class=\"tag\" href=\"/tag/life/\" style=\"font-size: 26px\">\n",
            "       life\n",
            "      </a>\n",
            "     </span>\n",
            "     <span class=\"tag-item\">\n",
            "      <a class=\"tag\" href=\"/tag/humor/\" style=\"font-size: 24px\">\n",
            "       humor\n",
            "      </a>\n",
            "     </span>\n",
            "     <span class=\"tag-item\">\n",
            "      <a class=\"tag\" href=\"/tag/books/\" style=\"font-size: 22px\">\n",
            "       books\n",
            "      </a>\n",
            "     </span>\n",
            "     <span class=\"tag-item\">\n",
            "      <a class=\"tag\" href=\"/tag/reading/\" style=\"font-size: 14px\">\n",
            "       reading\n",
            "      </a>\n",
            "     </span>\n",
            "     <span class=\"tag-item\">\n",
            "      <a class=\"tag\" href=\"/tag/friendship/\" style=\"font-size: 10px\">\n",
            "       friendship\n",
            "      </a>\n",
            "     </span>\n",
            "     <span class=\"tag-item\">\n",
            "      <a class=\"tag\" href=\"/tag/friends/\" style=\"font-size: 8px\">\n",
            "       friends\n",
            "      </a>\n",
            "     </span>\n",
            "     <span class=\"tag-item\">\n",
            "      <a class=\"tag\" href=\"/tag/truth/\" style=\"font-size: 8px\">\n",
            "       truth\n",
            "      </a>\n",
            "     </span>\n",
            "     <span class=\"tag-item\">\n",
            "      <a class=\"tag\" href=\"/tag/simile/\" style=\"font-size: 6px\">\n",
            "       simile\n",
            "      </a>\n",
            "     </span>\n",
            "    </div>\n",
            "   </div>\n",
            "  </div>\n",
            "  <footer class=\"footer\">\n",
            "   <div class=\"container\">\n",
            "    <p class=\"text-muted\">\n",
            "     Quotes by:\n",
            "     <a href=\"https://www.goodreads.com/quotes\">\n",
            "      GoodReads.com\n",
            "     </a>\n",
            "    </p>\n",
            "    <p class=\"copyright\">\n",
            "     Made with\n",
            "     <span class=\"sh-red\">\n",
            "      ❤\n",
            "     </span>\n",
            "     by\n",
            "     <a href=\"https://scrapinghub.com\">\n",
            "      Scrapinghub\n",
            "     </a>\n",
            "    </p>\n",
            "   </div>\n",
            "  </footer>\n",
            " </body>\n",
            "</html>\n"
          ]
        }
      ]
    },
    {
      "cell_type": "markdown",
      "source": [
        "我們可以利用 `find()`來尋找特定的元素\n",
        "\n",
        "這個function會尋找\"第一個符合條件\"的標籤(tag)，如果找不到會return None"
      ],
      "metadata": {
        "id": "pNE94dDyL8F7"
      }
    },
    {
      "cell_type": "code",
      "source": [
        "soup.find('a')"
      ],
      "metadata": {
        "colab": {
          "base_uri": "https://localhost:8080/"
        },
        "id": "5sgwfd4z4I_n",
        "outputId": "b4258270-7aaa-4f0c-95cc-163b5a747451"
      },
      "execution_count": null,
      "outputs": [
        {
          "output_type": "execute_result",
          "data": {
            "text/plain": [
              "<a href=\"/\" style=\"text-decoration: none\">Quotes to Scrape</a>"
            ]
          },
          "metadata": {},
          "execution_count": 49
        }
      ]
    },
    {
      "cell_type": "markdown",
      "source": [
        "取得這個tag中的文字內容"
      ],
      "metadata": {
        "id": "duc3VG878-Fq"
      }
    },
    {
      "cell_type": "code",
      "source": [
        "soup.find('a').text"
      ],
      "metadata": {
        "colab": {
          "base_uri": "https://localhost:8080/",
          "height": 35
        },
        "id": "Edz2ba0K86rO",
        "outputId": "5ea9c975-e6be-4204-be67-e5d489099ff8"
      },
      "execution_count": null,
      "outputs": [
        {
          "output_type": "execute_result",
          "data": {
            "text/plain": [
              "'Quotes to Scrape'"
            ],
            "application/vnd.google.colaboratory.intrinsic+json": {
              "type": "string"
            }
          },
          "metadata": {},
          "execution_count": 50
        }
      ]
    },
    {
      "cell_type": "markdown",
      "source": [
        " `find_all()`會回傳\"全部\"符合條件的結果\n"
      ],
      "metadata": {
        "id": "LHdTDAzn8V3E"
      }
    },
    {
      "cell_type": "code",
      "source": [
        "soup.find_all('a')"
      ],
      "metadata": {
        "colab": {
          "base_uri": "https://localhost:8080/",
          "height": 300
        },
        "id": "GPhk72n1733R",
        "outputId": "773af367-e8a0-4e82-9191-7473b6d8a521"
      },
      "execution_count": null,
      "outputs": [
        {
          "output_type": "display_data",
          "data": {
            "text/plain": [
              "<IPython.core.display.Javascript object>"
            ],
            "application/javascript": [
              "google.colab.output.setIframeHeight(0, true, {maxHeight: 100})"
            ]
          },
          "metadata": {}
        },
        {
          "output_type": "display_data",
          "data": {
            "text/plain": [
              "<IPython.core.display.Javascript object>"
            ],
            "application/javascript": [
              "google.colab.output.setIframeHeight(0, true, {maxHeight: 500})"
            ]
          },
          "metadata": {}
        },
        {
          "output_type": "display_data",
          "data": {
            "text/plain": [
              "<IPython.core.display.Javascript object>"
            ],
            "application/javascript": [
              "google.colab.output.setIframeHeight(0, true, {maxHeight: 300})"
            ]
          },
          "metadata": {}
        },
        {
          "output_type": "execute_result",
          "data": {
            "text/plain": [
              "[<a href=\"/\" style=\"text-decoration: none\">Quotes to Scrape</a>,\n",
              " <a href=\"/login\">Login</a>,\n",
              " <a href=\"/author/Albert-Einstein\">(about)</a>,\n",
              " <a class=\"tag\" href=\"/tag/change/page/1/\">change</a>,\n",
              " <a class=\"tag\" href=\"/tag/deep-thoughts/page/1/\">deep-thoughts</a>,\n",
              " <a class=\"tag\" href=\"/tag/thinking/page/1/\">thinking</a>,\n",
              " <a class=\"tag\" href=\"/tag/world/page/1/\">world</a>,\n",
              " <a href=\"/author/J-K-Rowling\">(about)</a>,\n",
              " <a class=\"tag\" href=\"/tag/abilities/page/1/\">abilities</a>,\n",
              " <a class=\"tag\" href=\"/tag/choices/page/1/\">choices</a>,\n",
              " <a href=\"/author/Albert-Einstein\">(about)</a>,\n",
              " <a class=\"tag\" href=\"/tag/inspirational/page/1/\">inspirational</a>,\n",
              " <a class=\"tag\" href=\"/tag/life/page/1/\">life</a>,\n",
              " <a class=\"tag\" href=\"/tag/live/page/1/\">live</a>,\n",
              " <a class=\"tag\" href=\"/tag/miracle/page/1/\">miracle</a>,\n",
              " <a class=\"tag\" href=\"/tag/miracles/page/1/\">miracles</a>,\n",
              " <a href=\"/author/Jane-Austen\">(about)</a>,\n",
              " <a class=\"tag\" href=\"/tag/aliteracy/page/1/\">aliteracy</a>,\n",
              " <a class=\"tag\" href=\"/tag/books/page/1/\">books</a>,\n",
              " <a class=\"tag\" href=\"/tag/classic/page/1/\">classic</a>,\n",
              " <a class=\"tag\" href=\"/tag/humor/page/1/\">humor</a>,\n",
              " <a href=\"/author/Marilyn-Monroe\">(about)</a>,\n",
              " <a class=\"tag\" href=\"/tag/be-yourself/page/1/\">be-yourself</a>,\n",
              " <a class=\"tag\" href=\"/tag/inspirational/page/1/\">inspirational</a>,\n",
              " <a href=\"/author/Albert-Einstein\">(about)</a>,\n",
              " <a class=\"tag\" href=\"/tag/adulthood/page/1/\">adulthood</a>,\n",
              " <a class=\"tag\" href=\"/tag/success/page/1/\">success</a>,\n",
              " <a class=\"tag\" href=\"/tag/value/page/1/\">value</a>,\n",
              " <a href=\"/author/Andre-Gide\">(about)</a>,\n",
              " <a class=\"tag\" href=\"/tag/life/page/1/\">life</a>,\n",
              " <a class=\"tag\" href=\"/tag/love/page/1/\">love</a>,\n",
              " <a href=\"/author/Thomas-A-Edison\">(about)</a>,\n",
              " <a class=\"tag\" href=\"/tag/edison/page/1/\">edison</a>,\n",
              " <a class=\"tag\" href=\"/tag/failure/page/1/\">failure</a>,\n",
              " <a class=\"tag\" href=\"/tag/inspirational/page/1/\">inspirational</a>,\n",
              " <a class=\"tag\" href=\"/tag/paraphrased/page/1/\">paraphrased</a>,\n",
              " <a href=\"/author/Eleanor-Roosevelt\">(about)</a>,\n",
              " <a class=\"tag\" href=\"/tag/misattributed-eleanor-roosevelt/page/1/\">misattributed-eleanor-roosevelt</a>,\n",
              " <a href=\"/author/Steve-Martin\">(about)</a>,\n",
              " <a class=\"tag\" href=\"/tag/humor/page/1/\">humor</a>,\n",
              " <a class=\"tag\" href=\"/tag/obvious/page/1/\">obvious</a>,\n",
              " <a class=\"tag\" href=\"/tag/simile/page/1/\">simile</a>,\n",
              " <a href=\"/page/2/\">Next <span aria-hidden=\"true\">→</span></a>,\n",
              " <a class=\"tag\" href=\"/tag/love/\" style=\"font-size: 28px\">love</a>,\n",
              " <a class=\"tag\" href=\"/tag/inspirational/\" style=\"font-size: 26px\">inspirational</a>,\n",
              " <a class=\"tag\" href=\"/tag/life/\" style=\"font-size: 26px\">life</a>,\n",
              " <a class=\"tag\" href=\"/tag/humor/\" style=\"font-size: 24px\">humor</a>,\n",
              " <a class=\"tag\" href=\"/tag/books/\" style=\"font-size: 22px\">books</a>,\n",
              " <a class=\"tag\" href=\"/tag/reading/\" style=\"font-size: 14px\">reading</a>,\n",
              " <a class=\"tag\" href=\"/tag/friendship/\" style=\"font-size: 10px\">friendship</a>,\n",
              " <a class=\"tag\" href=\"/tag/friends/\" style=\"font-size: 8px\">friends</a>,\n",
              " <a class=\"tag\" href=\"/tag/truth/\" style=\"font-size: 8px\">truth</a>,\n",
              " <a class=\"tag\" href=\"/tag/simile/\" style=\"font-size: 6px\">simile</a>,\n",
              " <a href=\"https://www.goodreads.com/quotes\">GoodReads.com</a>,\n",
              " <a href=\"https://scrapinghub.com\">Scrapinghub</a>]"
            ]
          },
          "metadata": {},
          "execution_count": 67
        }
      ]
    },
    {
      "cell_type": "markdown",
      "source": [
        "我們可以設定更多的條件，例如我想找出所有class名稱有'tag'的所有 `<a>`"
      ],
      "metadata": {
        "id": "aKz9KuYJ9ss2"
      }
    },
    {
      "cell_type": "code",
      "source": [
        "soup.find_all('a', class_='tag')"
      ],
      "metadata": {
        "colab": {
          "base_uri": "https://localhost:8080/",
          "height": 300
        },
        "id": "8t5fwgSU9pzr",
        "outputId": "2c78aa94-3d36-4671-f916-ce51731b82b8"
      },
      "execution_count": null,
      "outputs": [
        {
          "output_type": "display_data",
          "data": {
            "text/plain": [
              "<IPython.core.display.Javascript object>"
            ],
            "application/javascript": [
              "google.colab.output.setIframeHeight(0, true, {maxHeight: 100})"
            ]
          },
          "metadata": {}
        },
        {
          "output_type": "display_data",
          "data": {
            "text/plain": [
              "<IPython.core.display.Javascript object>"
            ],
            "application/javascript": [
              "google.colab.output.setIframeHeight(0, true, {maxHeight: 500})"
            ]
          },
          "metadata": {}
        },
        {
          "output_type": "display_data",
          "data": {
            "text/plain": [
              "<IPython.core.display.Javascript object>"
            ],
            "application/javascript": [
              "google.colab.output.setIframeHeight(0, true, {maxHeight: 300})"
            ]
          },
          "metadata": {}
        },
        {
          "output_type": "execute_result",
          "data": {
            "text/plain": [
              "[<a class=\"tag\" href=\"/tag/change/page/1/\">change</a>,\n",
              " <a class=\"tag\" href=\"/tag/deep-thoughts/page/1/\">deep-thoughts</a>,\n",
              " <a class=\"tag\" href=\"/tag/thinking/page/1/\">thinking</a>,\n",
              " <a class=\"tag\" href=\"/tag/world/page/1/\">world</a>,\n",
              " <a class=\"tag\" href=\"/tag/abilities/page/1/\">abilities</a>,\n",
              " <a class=\"tag\" href=\"/tag/choices/page/1/\">choices</a>,\n",
              " <a class=\"tag\" href=\"/tag/inspirational/page/1/\">inspirational</a>,\n",
              " <a class=\"tag\" href=\"/tag/life/page/1/\">life</a>,\n",
              " <a class=\"tag\" href=\"/tag/live/page/1/\">live</a>,\n",
              " <a class=\"tag\" href=\"/tag/miracle/page/1/\">miracle</a>,\n",
              " <a class=\"tag\" href=\"/tag/miracles/page/1/\">miracles</a>,\n",
              " <a class=\"tag\" href=\"/tag/aliteracy/page/1/\">aliteracy</a>,\n",
              " <a class=\"tag\" href=\"/tag/books/page/1/\">books</a>,\n",
              " <a class=\"tag\" href=\"/tag/classic/page/1/\">classic</a>,\n",
              " <a class=\"tag\" href=\"/tag/humor/page/1/\">humor</a>,\n",
              " <a class=\"tag\" href=\"/tag/be-yourself/page/1/\">be-yourself</a>,\n",
              " <a class=\"tag\" href=\"/tag/inspirational/page/1/\">inspirational</a>,\n",
              " <a class=\"tag\" href=\"/tag/adulthood/page/1/\">adulthood</a>,\n",
              " <a class=\"tag\" href=\"/tag/success/page/1/\">success</a>,\n",
              " <a class=\"tag\" href=\"/tag/value/page/1/\">value</a>,\n",
              " <a class=\"tag\" href=\"/tag/life/page/1/\">life</a>,\n",
              " <a class=\"tag\" href=\"/tag/love/page/1/\">love</a>,\n",
              " <a class=\"tag\" href=\"/tag/edison/page/1/\">edison</a>,\n",
              " <a class=\"tag\" href=\"/tag/failure/page/1/\">failure</a>,\n",
              " <a class=\"tag\" href=\"/tag/inspirational/page/1/\">inspirational</a>,\n",
              " <a class=\"tag\" href=\"/tag/paraphrased/page/1/\">paraphrased</a>,\n",
              " <a class=\"tag\" href=\"/tag/misattributed-eleanor-roosevelt/page/1/\">misattributed-eleanor-roosevelt</a>,\n",
              " <a class=\"tag\" href=\"/tag/humor/page/1/\">humor</a>,\n",
              " <a class=\"tag\" href=\"/tag/obvious/page/1/\">obvious</a>,\n",
              " <a class=\"tag\" href=\"/tag/simile/page/1/\">simile</a>,\n",
              " <a class=\"tag\" href=\"/tag/love/\" style=\"font-size: 28px\">love</a>,\n",
              " <a class=\"tag\" href=\"/tag/inspirational/\" style=\"font-size: 26px\">inspirational</a>,\n",
              " <a class=\"tag\" href=\"/tag/life/\" style=\"font-size: 26px\">life</a>,\n",
              " <a class=\"tag\" href=\"/tag/humor/\" style=\"font-size: 24px\">humor</a>,\n",
              " <a class=\"tag\" href=\"/tag/books/\" style=\"font-size: 22px\">books</a>,\n",
              " <a class=\"tag\" href=\"/tag/reading/\" style=\"font-size: 14px\">reading</a>,\n",
              " <a class=\"tag\" href=\"/tag/friendship/\" style=\"font-size: 10px\">friendship</a>,\n",
              " <a class=\"tag\" href=\"/tag/friends/\" style=\"font-size: 8px\">friends</a>,\n",
              " <a class=\"tag\" href=\"/tag/truth/\" style=\"font-size: 8px\">truth</a>,\n",
              " <a class=\"tag\" href=\"/tag/simile/\" style=\"font-size: 6px\">simile</a>]"
            ]
          },
          "metadata": {},
          "execution_count": 77
        }
      ]
    },
    {
      "cell_type": "markdown",
      "source": [
        "取出特定的屬性內容，例如`<a>`裡面的href"
      ],
      "metadata": {
        "id": "mH2FEK0-Kv1R"
      }
    },
    {
      "cell_type": "code",
      "source": [
        "for ele in soup.find_all('a', class_='tag'):\n",
        "    print(ele['href'])"
      ],
      "metadata": {
        "colab": {
          "base_uri": "https://localhost:8080/",
          "height": 300
        },
        "id": "s9UAAXfkK3VU",
        "outputId": "fee61687-37ab-46f2-ae53-ecface3f5b92"
      },
      "execution_count": null,
      "outputs": [
        {
          "output_type": "display_data",
          "data": {
            "text/plain": [
              "<IPython.core.display.Javascript object>"
            ],
            "application/javascript": [
              "google.colab.output.setIframeHeight(0, true, {maxHeight: 100})"
            ]
          },
          "metadata": {}
        },
        {
          "output_type": "display_data",
          "data": {
            "text/plain": [
              "<IPython.core.display.Javascript object>"
            ],
            "application/javascript": [
              "google.colab.output.setIframeHeight(0, true, {maxHeight: 500})"
            ]
          },
          "metadata": {}
        },
        {
          "output_type": "display_data",
          "data": {
            "text/plain": [
              "<IPython.core.display.Javascript object>"
            ],
            "application/javascript": [
              "google.colab.output.setIframeHeight(0, true, {maxHeight: 300})"
            ]
          },
          "metadata": {}
        },
        {
          "output_type": "stream",
          "name": "stdout",
          "text": [
            "/tag/change/page/1/\n",
            "/tag/deep-thoughts/page/1/\n",
            "/tag/thinking/page/1/\n",
            "/tag/world/page/1/\n",
            "/tag/abilities/page/1/\n",
            "/tag/choices/page/1/\n",
            "/tag/inspirational/page/1/\n",
            "/tag/life/page/1/\n",
            "/tag/live/page/1/\n",
            "/tag/miracle/page/1/\n",
            "/tag/miracles/page/1/\n",
            "/tag/aliteracy/page/1/\n",
            "/tag/books/page/1/\n",
            "/tag/classic/page/1/\n",
            "/tag/humor/page/1/\n",
            "/tag/be-yourself/page/1/\n",
            "/tag/inspirational/page/1/\n",
            "/tag/adulthood/page/1/\n",
            "/tag/success/page/1/\n",
            "/tag/value/page/1/\n",
            "/tag/life/page/1/\n",
            "/tag/love/page/1/\n",
            "/tag/edison/page/1/\n",
            "/tag/failure/page/1/\n",
            "/tag/inspirational/page/1/\n",
            "/tag/paraphrased/page/1/\n",
            "/tag/misattributed-eleanor-roosevelt/page/1/\n",
            "/tag/humor/page/1/\n",
            "/tag/obvious/page/1/\n",
            "/tag/simile/page/1/\n",
            "/tag/love/\n",
            "/tag/inspirational/\n",
            "/tag/life/\n",
            "/tag/humor/\n",
            "/tag/books/\n",
            "/tag/reading/\n",
            "/tag/friendship/\n",
            "/tag/friends/\n",
            "/tag/truth/\n",
            "/tag/simile/\n"
          ]
        }
      ]
    },
    {
      "cell_type": "markdown",
      "source": [
        "如果想用CSS selector來搜尋 : `select()` (推薦)"
      ],
      "metadata": {
        "id": "JE2eG-eSBjlF"
      }
    },
    {
      "cell_type": "code",
      "source": [
        "# 找出所有class名稱有'tag'的所有 `<a>`\n",
        "# 等價於 soup.find_all('a', class_='tag')\n",
        "soup.select('a.tag')"
      ],
      "metadata": {
        "colab": {
          "base_uri": "https://localhost:8080/",
          "height": 300
        },
        "id": "WjJTWE8m-lFm",
        "outputId": "1e0bcfd6-713f-4544-d0b9-8613a4a078a9"
      },
      "execution_count": null,
      "outputs": [
        {
          "output_type": "display_data",
          "data": {
            "text/plain": [
              "<IPython.core.display.Javascript object>"
            ],
            "application/javascript": [
              "google.colab.output.setIframeHeight(0, true, {maxHeight: 100})"
            ]
          },
          "metadata": {}
        },
        {
          "output_type": "display_data",
          "data": {
            "text/plain": [
              "<IPython.core.display.Javascript object>"
            ],
            "application/javascript": [
              "google.colab.output.setIframeHeight(0, true, {maxHeight: 500})"
            ]
          },
          "metadata": {}
        },
        {
          "output_type": "display_data",
          "data": {
            "text/plain": [
              "<IPython.core.display.Javascript object>"
            ],
            "application/javascript": [
              "google.colab.output.setIframeHeight(0, true, {maxHeight: 300})"
            ]
          },
          "metadata": {}
        },
        {
          "output_type": "execute_result",
          "data": {
            "text/plain": [
              "[<a class=\"tag\" href=\"/tag/change/page/1/\">change</a>,\n",
              " <a class=\"tag\" href=\"/tag/deep-thoughts/page/1/\">deep-thoughts</a>,\n",
              " <a class=\"tag\" href=\"/tag/thinking/page/1/\">thinking</a>,\n",
              " <a class=\"tag\" href=\"/tag/world/page/1/\">world</a>,\n",
              " <a class=\"tag\" href=\"/tag/abilities/page/1/\">abilities</a>,\n",
              " <a class=\"tag\" href=\"/tag/choices/page/1/\">choices</a>,\n",
              " <a class=\"tag\" href=\"/tag/inspirational/page/1/\">inspirational</a>,\n",
              " <a class=\"tag\" href=\"/tag/life/page/1/\">life</a>,\n",
              " <a class=\"tag\" href=\"/tag/live/page/1/\">live</a>,\n",
              " <a class=\"tag\" href=\"/tag/miracle/page/1/\">miracle</a>,\n",
              " <a class=\"tag\" href=\"/tag/miracles/page/1/\">miracles</a>,\n",
              " <a class=\"tag\" href=\"/tag/aliteracy/page/1/\">aliteracy</a>,\n",
              " <a class=\"tag\" href=\"/tag/books/page/1/\">books</a>,\n",
              " <a class=\"tag\" href=\"/tag/classic/page/1/\">classic</a>,\n",
              " <a class=\"tag\" href=\"/tag/humor/page/1/\">humor</a>,\n",
              " <a class=\"tag\" href=\"/tag/be-yourself/page/1/\">be-yourself</a>,\n",
              " <a class=\"tag\" href=\"/tag/inspirational/page/1/\">inspirational</a>,\n",
              " <a class=\"tag\" href=\"/tag/adulthood/page/1/\">adulthood</a>,\n",
              " <a class=\"tag\" href=\"/tag/success/page/1/\">success</a>,\n",
              " <a class=\"tag\" href=\"/tag/value/page/1/\">value</a>,\n",
              " <a class=\"tag\" href=\"/tag/life/page/1/\">life</a>,\n",
              " <a class=\"tag\" href=\"/tag/love/page/1/\">love</a>,\n",
              " <a class=\"tag\" href=\"/tag/edison/page/1/\">edison</a>,\n",
              " <a class=\"tag\" href=\"/tag/failure/page/1/\">failure</a>,\n",
              " <a class=\"tag\" href=\"/tag/inspirational/page/1/\">inspirational</a>,\n",
              " <a class=\"tag\" href=\"/tag/paraphrased/page/1/\">paraphrased</a>,\n",
              " <a class=\"tag\" href=\"/tag/misattributed-eleanor-roosevelt/page/1/\">misattributed-eleanor-roosevelt</a>,\n",
              " <a class=\"tag\" href=\"/tag/humor/page/1/\">humor</a>,\n",
              " <a class=\"tag\" href=\"/tag/obvious/page/1/\">obvious</a>,\n",
              " <a class=\"tag\" href=\"/tag/simile/page/1/\">simile</a>,\n",
              " <a class=\"tag\" href=\"/tag/love/\" style=\"font-size: 28px\">love</a>,\n",
              " <a class=\"tag\" href=\"/tag/inspirational/\" style=\"font-size: 26px\">inspirational</a>,\n",
              " <a class=\"tag\" href=\"/tag/life/\" style=\"font-size: 26px\">life</a>,\n",
              " <a class=\"tag\" href=\"/tag/humor/\" style=\"font-size: 24px\">humor</a>,\n",
              " <a class=\"tag\" href=\"/tag/books/\" style=\"font-size: 22px\">books</a>,\n",
              " <a class=\"tag\" href=\"/tag/reading/\" style=\"font-size: 14px\">reading</a>,\n",
              " <a class=\"tag\" href=\"/tag/friendship/\" style=\"font-size: 10px\">friendship</a>,\n",
              " <a class=\"tag\" href=\"/tag/friends/\" style=\"font-size: 8px\">friends</a>,\n",
              " <a class=\"tag\" href=\"/tag/truth/\" style=\"font-size: 8px\">truth</a>,\n",
              " <a class=\"tag\" href=\"/tag/simile/\" style=\"font-size: 6px\">simile</a>]"
            ]
          },
          "metadata": {},
          "execution_count": 78
        }
      ]
    },
    {
      "cell_type": "markdown",
      "source": [
        "我們可以用css selector表達更複雜的結構\n",
        "\n",
        "假設我們要找出所有\"class是'quote'的div，底下所有class是text的span\"\n",
        "\n",
        "read more about css selector : https://www.w3schools.com/cssref/css_selectors.asp"
      ],
      "metadata": {
        "id": "QWs9Raa2C5O1"
      }
    },
    {
      "cell_type": "code",
      "source": [
        "soup.select('div.quote span.text')"
      ],
      "metadata": {
        "colab": {
          "base_uri": "https://localhost:8080/",
          "height": 190
        },
        "id": "DNHoMEixDcbi",
        "outputId": "1261caa1-6f86-4e16-ba10-559abb276851"
      },
      "execution_count": null,
      "outputs": [
        {
          "output_type": "display_data",
          "data": {
            "text/plain": [
              "<IPython.core.display.Javascript object>"
            ],
            "application/javascript": [
              "google.colab.output.setIframeHeight(0, true, {maxHeight: 100})"
            ]
          },
          "metadata": {}
        },
        {
          "output_type": "display_data",
          "data": {
            "text/plain": [
              "<IPython.core.display.Javascript object>"
            ],
            "application/javascript": [
              "google.colab.output.setIframeHeight(0, true, {maxHeight: 500})"
            ]
          },
          "metadata": {}
        },
        {
          "output_type": "display_data",
          "data": {
            "text/plain": [
              "<IPython.core.display.Javascript object>"
            ],
            "application/javascript": [
              "google.colab.output.setIframeHeight(0, true, {maxHeight: 300})"
            ]
          },
          "metadata": {}
        },
        {
          "output_type": "execute_result",
          "data": {
            "text/plain": [
              "[<span class=\"text\" itemprop=\"text\">“The world as we have created it is a process of our thinking. It cannot be changed without changing our thinking.”</span>,\n",
              " <span class=\"text\" itemprop=\"text\">“It is our choices, Harry, that show what we truly are, far more than our abilities.”</span>,\n",
              " <span class=\"text\" itemprop=\"text\">“There are only two ways to live your life. One is as though nothing is a miracle. The other is as though everything is a miracle.”</span>,\n",
              " <span class=\"text\" itemprop=\"text\">“The person, be it gentleman or lady, who has not pleasure in a good novel, must be intolerably stupid.”</span>,\n",
              " <span class=\"text\" itemprop=\"text\">“Imperfection is beauty, madness is genius and it's better to be absolutely ridiculous than absolutely boring.”</span>,\n",
              " <span class=\"text\" itemprop=\"text\">“Try not to become a man of success. Rather become a man of value.”</span>,\n",
              " <span class=\"text\" itemprop=\"text\">“It is better to be hated for what you are than to be loved for what you are not.”</span>,\n",
              " <span class=\"text\" itemprop=\"text\">“I have not failed. I've just found 10,000 ways that won't work.”</span>,\n",
              " <span class=\"text\" itemprop=\"text\">“A woman is like a tea bag; you never know how strong it is until it's in hot water.”</span>,\n",
              " <span class=\"text\" itemprop=\"text\">“A day without sunshine is like, you know, night.”</span>]"
            ]
          },
          "metadata": {},
          "execution_count": 89
        }
      ]
    },
    {
      "cell_type": "markdown",
      "source": [
        "取得每個tag裡的文字內容"
      ],
      "metadata": {
        "id": "N4aMLBd0E4us"
      }
    },
    {
      "cell_type": "code",
      "source": [
        "for i in soup.select('div.quote span.text'):\n",
        "    print(i.text)"
      ],
      "metadata": {
        "colab": {
          "base_uri": "https://localhost:8080/",
          "height": 190
        },
        "id": "CTrvUq73LSnc",
        "outputId": "1f2abb72-6bd9-4a05-c0c4-7fbfd2f963e1"
      },
      "execution_count": null,
      "outputs": [
        {
          "output_type": "display_data",
          "data": {
            "text/plain": [
              "<IPython.core.display.Javascript object>"
            ],
            "application/javascript": [
              "google.colab.output.setIframeHeight(0, true, {maxHeight: 100})"
            ]
          },
          "metadata": {}
        },
        {
          "output_type": "display_data",
          "data": {
            "text/plain": [
              "<IPython.core.display.Javascript object>"
            ],
            "application/javascript": [
              "google.colab.output.setIframeHeight(0, true, {maxHeight: 500})"
            ]
          },
          "metadata": {}
        },
        {
          "output_type": "display_data",
          "data": {
            "text/plain": [
              "<IPython.core.display.Javascript object>"
            ],
            "application/javascript": [
              "google.colab.output.setIframeHeight(0, true, {maxHeight: 300})"
            ]
          },
          "metadata": {}
        },
        {
          "output_type": "stream",
          "name": "stdout",
          "text": [
            "“The world as we have created it is a process of our thinking. It cannot be changed without changing our thinking.”\n",
            "“It is our choices, Harry, that show what we truly are, far more than our abilities.”\n",
            "“There are only two ways to live your life. One is as though nothing is a miracle. The other is as though everything is a miracle.”\n",
            "“The person, be it gentleman or lady, who has not pleasure in a good novel, must be intolerably stupid.”\n",
            "“Imperfection is beauty, madness is genius and it's better to be absolutely ridiculous than absolutely boring.”\n",
            "“Try not to become a man of success. Rather become a man of value.”\n",
            "“It is better to be hated for what you are than to be loved for what you are not.”\n",
            "“I have not failed. I've just found 10,000 ways that won't work.”\n",
            "“A woman is like a tea bag; you never know how strong it is until it's in hot water.”\n",
            "“A day without sunshine is like, you know, night.”\n"
          ]
        }
      ]
    },
    {
      "cell_type": "markdown",
      "source": [
        "### 1. 找出在該網站上所出現的所有作者 https://quotes.toscrape.com/"
      ],
      "metadata": {
        "id": "c7aMMAUl3eDm"
      }
    },
    {
      "cell_type": "code",
      "source": [
        "authors = []\n",
        "base = 'https://quotes.toscrape.com/'\n",
        "next = None\n",
        "url = base\n",
        "while True:\n",
        "    html = rq.get(url)\n",
        "    soup = BeautifulSoup(html.text, 'html.parser')\n",
        "    for a in soup.select('small.author'):\n",
        "        authors.append(a.text)\n",
        "    # get next page button\n",
        "    next = soup.select('li.next a')\n",
        "    if next:\n",
        "        next = next[0]['href']\n",
        "        url = base + next\n",
        "    else:\n",
        "        break\n",
        "authors"
      ],
      "metadata": {
        "colab": {
          "base_uri": "https://localhost:8080/",
          "height": 300
        },
        "id": "3Sqe4rqt7i0Q",
        "outputId": "424d7686-e3fc-45f3-a2b8-562de099a0b3"
      },
      "execution_count": 24,
      "outputs": [
        {
          "output_type": "display_data",
          "data": {
            "text/plain": [
              "<IPython.core.display.Javascript object>"
            ],
            "application/javascript": [
              "google.colab.output.setIframeHeight(0, true, {maxHeight: 300})"
            ]
          },
          "metadata": {}
        },
        {
          "output_type": "execute_result",
          "data": {
            "text/plain": [
              "['Albert Einstein',\n",
              " 'J.K. Rowling',\n",
              " 'Albert Einstein',\n",
              " 'Jane Austen',\n",
              " 'Marilyn Monroe',\n",
              " 'Albert Einstein',\n",
              " 'André Gide',\n",
              " 'Thomas A. Edison',\n",
              " 'Eleanor Roosevelt',\n",
              " 'Steve Martin',\n",
              " 'Marilyn Monroe',\n",
              " 'J.K. Rowling',\n",
              " 'Albert Einstein',\n",
              " 'Bob Marley',\n",
              " 'Dr. Seuss',\n",
              " 'Douglas Adams',\n",
              " 'Elie Wiesel',\n",
              " 'Friedrich Nietzsche',\n",
              " 'Mark Twain',\n",
              " 'Allen Saunders',\n",
              " 'Pablo Neruda',\n",
              " 'Ralph Waldo Emerson',\n",
              " 'Mother Teresa',\n",
              " 'Garrison Keillor',\n",
              " 'Jim Henson',\n",
              " 'Dr. Seuss',\n",
              " 'Albert Einstein',\n",
              " 'J.K. Rowling',\n",
              " 'Albert Einstein',\n",
              " 'Bob Marley',\n",
              " 'Dr. Seuss',\n",
              " 'J.K. Rowling',\n",
              " 'Bob Marley',\n",
              " 'Mother Teresa',\n",
              " 'J.K. Rowling',\n",
              " 'Charles M. Schulz',\n",
              " 'William Nicholson',\n",
              " 'Albert Einstein',\n",
              " 'Jorge Luis Borges',\n",
              " 'George Eliot',\n",
              " 'George R.R. Martin',\n",
              " 'C.S. Lewis',\n",
              " 'Marilyn Monroe',\n",
              " 'Marilyn Monroe',\n",
              " 'Albert Einstein',\n",
              " 'Marilyn Monroe',\n",
              " 'Marilyn Monroe',\n",
              " 'Martin Luther King Jr.',\n",
              " 'J.K. Rowling',\n",
              " 'James Baldwin',\n",
              " 'Jane Austen',\n",
              " 'Eleanor Roosevelt',\n",
              " 'Marilyn Monroe',\n",
              " 'Albert Einstein',\n",
              " 'Haruki Murakami',\n",
              " 'Alexandre Dumas fils',\n",
              " 'Stephenie Meyer',\n",
              " 'Ernest Hemingway',\n",
              " 'Helen Keller',\n",
              " 'George Bernard Shaw',\n",
              " 'Charles Bukowski',\n",
              " 'Suzanne Collins',\n",
              " 'Suzanne Collins',\n",
              " 'C.S. Lewis',\n",
              " 'J.R.R. Tolkien',\n",
              " 'J.K. Rowling',\n",
              " 'Ernest Hemingway',\n",
              " 'Ralph Waldo Emerson',\n",
              " 'Mark Twain',\n",
              " 'Dr. Seuss',\n",
              " 'Alfred Tennyson',\n",
              " 'Charles Bukowski',\n",
              " 'Terry Pratchett',\n",
              " 'Dr. Seuss',\n",
              " 'J.D. Salinger',\n",
              " 'George Carlin',\n",
              " 'John Lennon',\n",
              " 'W.C. Fields',\n",
              " 'Ayn Rand',\n",
              " 'Mark Twain',\n",
              " 'Albert Einstein',\n",
              " 'Jane Austen',\n",
              " 'J.K. Rowling',\n",
              " 'Jane Austen',\n",
              " 'Jane Austen',\n",
              " 'C.S. Lewis',\n",
              " 'C.S. Lewis',\n",
              " 'Mark Twain',\n",
              " 'Mark Twain',\n",
              " 'C.S. Lewis',\n",
              " 'J.K. Rowling',\n",
              " 'Jimi Hendrix',\n",
              " 'J.M. Barrie',\n",
              " 'E.E. Cummings',\n",
              " 'Khaled Hosseini',\n",
              " 'Harper Lee',\n",
              " \"Madeleine L'Engle\",\n",
              " 'Mark Twain',\n",
              " 'Dr. Seuss',\n",
              " 'George R.R. Martin']"
            ]
          },
          "metadata": {},
          "execution_count": 24
        }
      ]
    },
    {
      "cell_type": "markdown",
      "source": [
        "### 2. 統計該網站上每一個tag所出現的次數 https://quotes.toscrape.com/"
      ],
      "metadata": {
        "id": "Xjz5RXdE3kK5"
      }
    },
    {
      "cell_type": "code",
      "source": [
        "tags = {}\n",
        "for i in range(1,11):\n",
        "    url = 'https://quotes.toscrape.com/page/{}/'.format(i)\n",
        "    html = rq.get(url)\n",
        "    soup = BeautifulSoup(html.text, 'html.parser')\n",
        "    for ele in soup.select('div.tags a.tag'):\n",
        "        if ele.text not in tags:\n",
        "            tags[ele.text] = 1\n",
        "        else:\n",
        "            tags[ele.text] += 1\n",
        "tags"
      ],
      "metadata": {
        "colab": {
          "base_uri": "https://localhost:8080/",
          "height": 300
        },
        "id": "bJho6kklGory",
        "outputId": "db561234-baec-41a2-f5ea-0a63cf8ff66b"
      },
      "execution_count": null,
      "outputs": [
        {
          "output_type": "display_data",
          "data": {
            "text/plain": [
              "<IPython.core.display.Javascript object>"
            ],
            "application/javascript": [
              "google.colab.output.setIframeHeight(0, true, {maxHeight: 300})"
            ]
          },
          "metadata": {}
        },
        {
          "output_type": "execute_result",
          "data": {
            "text/plain": [
              "{'abilities': 1,\n",
              " 'activism': 1,\n",
              " 'adulthood': 1,\n",
              " 'adventure': 1,\n",
              " 'age': 1,\n",
              " 'alcohol': 1,\n",
              " 'aliteracy': 1,\n",
              " 'apathy': 1,\n",
              " 'attributed': 1,\n",
              " 'attributed-no-source': 3,\n",
              " 'authors': 1,\n",
              " 'be-yourself': 1,\n",
              " 'beatles': 1,\n",
              " 'better-life-empathy': 1,\n",
              " 'bilbo': 1,\n",
              " 'books': 11,\n",
              " 'change': 1,\n",
              " 'children': 2,\n",
              " 'chocolate': 1,\n",
              " 'choices': 1,\n",
              " 'christianity': 1,\n",
              " 'classic': 2,\n",
              " 'comedy': 1,\n",
              " 'connection': 1,\n",
              " 'contentment': 1,\n",
              " 'courage': 2,\n",
              " 'death': 3,\n",
              " 'deep-thoughts': 1,\n",
              " 'difficult': 1,\n",
              " 'dreamers': 1,\n",
              " 'dreaming': 1,\n",
              " 'dreams': 1,\n",
              " 'drug': 1,\n",
              " 'dumbledore': 2,\n",
              " 'edison': 1,\n",
              " 'education': 1,\n",
              " 'elizabeth-bennet': 1,\n",
              " 'failure': 1,\n",
              " 'fairy-tales': 1,\n",
              " 'fairytales': 1,\n",
              " 'faith': 1,\n",
              " 'fantasy': 1,\n",
              " 'fate': 1,\n",
              " 'fear': 1,\n",
              " 'food': 1,\n",
              " 'friends': 4,\n",
              " 'friendship': 5,\n",
              " 'girls': 1,\n",
              " 'god': 1,\n",
              " 'good': 1,\n",
              " 'growing-up': 1,\n",
              " 'grown-ups': 1,\n",
              " 'happiness': 1,\n",
              " 'hate': 1,\n",
              " 'heartbreak': 1,\n",
              " 'hope': 2,\n",
              " 'humor': 12,\n",
              " 'imagination': 1,\n",
              " 'indifference': 1,\n",
              " 'insanity': 1,\n",
              " 'inspiration': 1,\n",
              " 'inspirational': 13,\n",
              " 'integrity': 1,\n",
              " 'jane-austen': 1,\n",
              " 'journey': 1,\n",
              " 'knowledge': 1,\n",
              " 'lack-of-friendship': 1,\n",
              " 'lack-of-love': 1,\n",
              " 'learning': 2,\n",
              " 'library': 2,\n",
              " 'lies': 1,\n",
              " 'life': 13,\n",
              " 'literature': 1,\n",
              " 'live': 1,\n",
              " 'live-death-love': 1,\n",
              " 'lost': 1,\n",
              " 'love': 14,\n",
              " 'lying': 1,\n",
              " 'marriage': 1,\n",
              " 'mind': 1,\n",
              " 'miracle': 1,\n",
              " 'miracles': 1,\n",
              " 'misattributed-eleanor-roosevelt': 1,\n",
              " 'misattributed-john-lennon': 1,\n",
              " 'misattributed-mark-twain': 1,\n",
              " 'misattributed-to-c-s-lewis': 1,\n",
              " 'misattributed-to-einstein': 1,\n",
              " 'misattributed-to-mother-teresa': 1,\n",
              " 'mistakes': 1,\n",
              " 'music': 2,\n",
              " 'navigation': 1,\n",
              " 'novelist-quotes': 1,\n",
              " 'obvious': 1,\n",
              " 'open-mind': 1,\n",
              " 'opposite': 1,\n",
              " 'paraphrased': 2,\n",
              " 'peace': 1,\n",
              " 'philosophy': 2,\n",
              " 'planning': 1,\n",
              " 'plans': 1,\n",
              " 'poetry': 1,\n",
              " 'quest': 1,\n",
              " 'read': 1,\n",
              " 'readers': 1,\n",
              " 'reading': 7,\n",
              " 'reading-books': 1,\n",
              " 'regrets': 1,\n",
              " 'religion': 2,\n",
              " 'romance': 1,\n",
              " 'romantic': 1,\n",
              " 'self-indulgence': 1,\n",
              " 'seuss': 1,\n",
              " 'simile': 3,\n",
              " 'simplicity': 1,\n",
              " 'sinister': 1,\n",
              " 'sisters': 1,\n",
              " 'success': 1,\n",
              " 'sun': 1,\n",
              " 'tea': 1,\n",
              " 'the-hunger-games': 1,\n",
              " 'thinking': 2,\n",
              " 'thought': 1,\n",
              " 'travel': 1,\n",
              " 'troubles': 1,\n",
              " 'truth': 4,\n",
              " 'understand': 1,\n",
              " 'understanding': 1,\n",
              " 'unhappy-marriage': 1,\n",
              " 'value': 1,\n",
              " 'wander': 1,\n",
              " 'wisdom': 1,\n",
              " 'women': 1,\n",
              " 'world': 1,\n",
              " 'write': 1,\n",
              " 'writers': 1,\n",
              " 'writing': 3,\n",
              " 'yourself': 2}"
            ]
          },
          "metadata": {},
          "execution_count": 23
        }
      ]
    },
    {
      "cell_type": "markdown",
      "source": [
        "### 3. 請搜尋PTT股票板前20頁標題出現過幾次\"台積電\"，要跳頁請找出儲存在`<a>`中的url https://www.ptt.cc/bbs/Stock/index.html"
      ],
      "metadata": {
        "id": "TLVAK3ks3mQw"
      }
    },
    {
      "cell_type": "code",
      "source": [
        "count = 0\n",
        "url = 'https://www.ptt.cc/bbs/Stock/index.html'\n",
        "base = 'https://www.ptt.cc' \n",
        "for i in range(1,21):\n",
        "\n",
        "    html = rq.get(url)\n",
        "    soup = BeautifulSoup(html.text, 'html.parser')\n",
        "    for ele in soup.select('div.title > a'):\n",
        "        if '台積電' in ele.text:\n",
        "            count += 1\n",
        "    link = soup.select('a.btn.wide')[1]\n",
        "    link = link['href']\n",
        "    url = base+link\n",
        "count"
      ],
      "metadata": {
        "colab": {
          "base_uri": "https://localhost:8080/",
          "height": 35
        },
        "id": "3jxiQGW1QXkQ",
        "outputId": "f03669c4-177d-4d1f-da55-f0020881d506"
      },
      "execution_count": null,
      "outputs": [
        {
          "output_type": "display_data",
          "data": {
            "text/plain": [
              "<IPython.core.display.Javascript object>"
            ],
            "application/javascript": [
              "google.colab.output.setIframeHeight(0, true, {maxHeight: 300})"
            ]
          },
          "metadata": {}
        },
        {
          "output_type": "execute_result",
          "data": {
            "text/plain": [
              "12"
            ]
          },
          "metadata": {},
          "execution_count": 9
        }
      ]
    }
  ]
}