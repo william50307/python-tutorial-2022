{
 "cells": [
  {
   "cell_type": "markdown",
   "metadata": {},
   "source": [
    "1. 請將下列的list:`[('yellow', 1), ('blue', 2), ('yellow', 3), ('blue', 4), ('red', 1)]`\n",
    "整理成下列的dictionary:`{'yellow': [1, 3], 'blue': [2, 4], 'red': [1]}`"
   ]
  },
  {
   "cell_type": "code",
   "execution_count": 1,
   "metadata": {},
   "outputs": [
    {
     "data": {
      "text/plain": [
       "{'yellow': [1, 3], 'blue': [2, 4], 'red': [1]}"
      ]
     },
     "execution_count": 1,
     "metadata": {},
     "output_type": "execute_result"
    }
   ],
   "source": [
    "x = [('yellow', 1), ('blue', 2), ('yellow', 3), ('blue', 4), ('red', 1)]\n",
    "\n",
    "output = {}\n",
    "for color, number in x:\n",
    "    if color not in output:\n",
    "        output[color] = [number]\n",
    "    else:\n",
    "        output[color].append(number)\n",
    "output"
   ]
  },
  {
   "cell_type": "markdown",
   "metadata": {},
   "source": [
    "將下列的字典:`{'Science': [88, 89, 62, 95], 'Language': [77, 78, 84, 80]}`\n",
    "整理成下列的list:`[{'Science': 88, 'Language': 77}, {'Science': 89, 'Language': 78}, {'Science': 62, 'Language': 84}, {'Science': 95, 'Language': 80}]`"
   ]
  },
  {
   "cell_type": "code",
   "execution_count": 2,
   "metadata": {},
   "outputs": [
    {
     "data": {
      "text/plain": [
       "[{'Science': 88, 'Language': 77},\n",
       " {'Science': 89, 'Language': 78},\n",
       " {'Science': 62, 'Language': 84},\n",
       " {'Science': 95, 'Language': 80}]"
      ]
     },
     "execution_count": 2,
     "metadata": {},
     "output_type": "execute_result"
    }
   ],
   "source": [
    "x = {'Science': [88, 89, 62, 95], 'Language': [77, 78, 84, 80]}\n",
    "output = []\n",
    "for s, l in zip(x['Science'], x['Language']):\n",
    "    temp = {'Science' : s, 'Language' : l}\n",
    "    output.append(temp)\n",
    "\n",
    "output"
   ]
  },
  {
   "cell_type": "markdown",
   "metadata": {},
   "source": [
    "3. 寫一段程式，計算一個sentence中每個word出現的次數。 Hint:sentence.split()\n",
    "\n",
    "    output:\n",
    "    ```python\n",
    "    Enter a sentence: this is a test and this is quite long because this is a test\n",
    "\n",
    "    'is' appears 3 times in the sentence\n",
    "    'long' appears once in the sentence\n",
    "    'a' appears 2 times in the sentence\n",
    "    'because' appears once in the sentence\n",
    "    'this' appears 3 times in the sentence\n",
    "    'quite' appears once in the sentence\n",
    "    'and' appears once in the sentence\n",
    "    'test' appears 2 times in the sentence\n",
    "    ```"
   ]
  },
  {
   "cell_type": "code",
   "execution_count": 3,
   "metadata": {},
   "outputs": [
    {
     "name": "stdout",
     "output_type": "stream",
     "text": [
      "'this' appears 3 times in the sentence\n",
      "'is' appears 3 times in the sentence\n",
      "'a' appears 2 times in the sentence\n",
      "'test' appears 2 times in the sentence\n",
      "'and' appears 1 times in the sentence\n",
      "'quite' appears 1 times in the sentence\n",
      "'long' appears 1 times in the sentence\n",
      "'because' appears 1 times in the sentence\n"
     ]
    }
   ],
   "source": [
    "sentence = input('please enter a sentence')\n",
    "words = sentence.split()\n",
    "result = {}\n",
    "for word in words:\n",
    "    if word not in result:\n",
    "        result[word] = 1\n",
    "    else:\n",
    "        result[word] += 1\n",
    "for k, v in result.items():\n",
    "    print(\"'{}' appears {} times in the sentence\".format(k,v))"
   ]
  },
  {
   "cell_type": "markdown",
   "metadata": {},
   "source": [
    "寫一個function，輸入身高與體重，計算這個人的BMI(記得須回傳結果)"
   ]
  },
  {
   "cell_type": "code",
   "execution_count": 4,
   "metadata": {},
   "outputs": [
    {
     "data": {
      "text/plain": [
       "16.3265306122449"
      ]
     },
     "execution_count": 4,
     "metadata": {},
     "output_type": "execute_result"
    }
   ],
   "source": [
    "def bmi(height, weight):\n",
    "    return weight / height**2\n",
    "bmi(1.75, 50)"
   ]
  },
  {
   "cell_type": "code",
   "execution_count": 5,
   "metadata": {},
   "outputs": [
    {
     "data": {
      "text/plain": [
       "5"
      ]
     },
     "execution_count": 5,
     "metadata": {},
     "output_type": "execute_result"
    }
   ],
   "source": [
    "def third():\n",
    "    count = 0\n",
    "    for i in range(10):\n",
    "        if i % 2 != 0:\n",
    "            count += 1\n",
    "    return count\n",
    "third()"
   ]
  }
 ],
 "metadata": {
  "interpreter": {
   "hash": "8fac594bfae6525c0c41b4041d2d72effa188cc8ead05f81b1fab2bb098927fb"
  },
  "kernelspec": {
   "display_name": "Python 3.8.3 ('base')",
   "language": "python",
   "name": "python3"
  },
  "language_info": {
   "codemirror_mode": {
    "name": "ipython",
    "version": 3
   },
   "file_extension": ".py",
   "mimetype": "text/x-python",
   "name": "python",
   "nbconvert_exporter": "python",
   "pygments_lexer": "ipython3",
   "version": "3.8.3"
  },
  "orig_nbformat": 4
 },
 "nbformat": 4,
 "nbformat_minor": 2
}
