{
 "cells": [
  {
   "cell_type": "markdown",
   "metadata": {},
   "source": [
    "# string operation\n",
    "\n",
    "1. 寫一段程式測試一段字串是否為palindrome(回文)，意思是反轉的字串與原字串相同，例如: restser是一個palindrome"
   ]
  },
  {
   "cell_type": "code",
   "execution_count": null,
   "metadata": {},
   "outputs": [],
   "source": [
    "x = 'testing'\n",
    "if x == x[::-1]:\n",
    "  print(\"it's a palindrone\")\n",
    "else:\n",
    "  print(\"it's not a palindrone\")"
   ]
  },
  {
   "cell_type": "markdown",
   "metadata": {},
   "source": [
    "2. 將'Hello World!'字串中的`'l'`換為`'s'`"
   ]
  },
  {
   "cell_type": "code",
   "execution_count": null,
   "metadata": {},
   "outputs": [],
   "source": [
    "a = 'Hello world!'\n",
    "a.replace('l', 's')"
   ]
  },
  {
   "cell_type": "markdown",
   "metadata": {},
   "source": [
    "3. 將'Hi I am John'根據`' '`空格分割成四個字串"
   ]
  },
  {
   "cell_type": "code",
   "execution_count": null,
   "metadata": {},
   "outputs": [],
   "source": [
    "x = 'Hi i am john'\n",
    "x.split(' ')"
   ]
  },
  {
   "cell_type": "markdown",
   "metadata": {},
   "source": [
    "4. 將'testing'轉成大寫"
   ]
  },
  {
   "cell_type": "code",
   "execution_count": 1,
   "metadata": {},
   "outputs": [
    {
     "data": {
      "text/plain": [
       "'TESTING'"
      ]
     },
     "execution_count": 1,
     "metadata": {},
     "output_type": "execute_result"
    }
   ],
   "source": [
    "x = 'testing'\n",
    "x.upper()"
   ]
  },
  {
   "cell_type": "markdown",
   "metadata": {},
   "source": [
    "# lists and tuples\n",
    "1. Fix this program:\n",
    "   \n",
    "    ```python\n",
    "    namelist = ('wub_wub', 'RubyPinch', 'go|dfish', 'Nitori')\n",
    "    namelist.append('pb122')\n",
    "    if 'pb122' in namelist:\n",
    "        print(\"Now I know pb122!\")   \n",
    "    ```"
   ]
  },
  {
   "cell_type": "code",
   "execution_count": 2,
   "metadata": {},
   "outputs": [
    {
     "name": "stdout",
     "output_type": "stream",
     "text": [
      "Now I know pb122!\n"
     ]
    }
   ],
   "source": [
    "namelist = ['wub_wub', 'RubyPinch', 'go|dfish', 'Nitori']\n",
    "namelist.append('pb122')\n",
    "if 'pb122' in namelist:\n",
    "    print(\"Now I know pb122!\")    "
   ]
  },
  {
   "cell_type": "markdown",
   "metadata": {},
   "source": [
    "2. Fix this program\n",
    "\n",
    "    ```python\n",
    "    namelist = ['wub_wub', 'RubyPinch', 'go|dfish', 'Nitori']\n",
    "    namelist = namelist.extend('theelous3')\n",
    "    if input(\"Enter your name: \") in namelist:\n",
    "        print(\"I know you!\")\n",
    "    else:\n",
    "        print(\"I don't know you.\")\n",
    "    ```"
   ]
  },
  {
   "cell_type": "code",
   "execution_count": null,
   "metadata": {},
   "outputs": [],
   "source": [
    "namelist = ['wub_wub', 'RubyPinch', 'go|dfish', 'Nitori']\n",
    "namelist.append('theelous3')\n",
    "\n",
    "if input(\"Enter your name: \") in namelist:\n",
    "    print(\"I know you!\")\n",
    "else:\n",
    "    print(\"I don't know you.\")"
   ]
  },
  {
   "cell_type": "markdown",
   "metadata": {},
   "source": [
    "3. 給定已排序數列[1,12,14,21,23,36,43,48,56,78,89,102,126,147,168,171,199,222,256,348,729]，試求中位數\n",
    "4. 給定已排序數列\n",
    "[1,12,14,21,23,36,43,48,56,78,89,102,126,147,168,171,199,222,256,348]，試求中位數\n",
    "\n",
    "這題我們可以用同個程式解決偶數個數與奇數個數的問題"
   ]
  },
  {
   "cell_type": "code",
   "execution_count": null,
   "metadata": {},
   "outputs": [],
   "source": [
    "x = [12,14,21,23,36,43,48,56,78,89,102,126,147,168,171,199,222,256,348,729]\n",
    "\n",
    "if len(x) % 2 == 1:\n",
    "  print('串列是奇數')\n",
    "  print(x[len(x)//2])\n",
    "else:\n",
    "  a = x[len(x)//2-1]\n",
    "  b = x[len(x)//2] \n",
    "  print('串列是偶數')\n",
    "  print((a + b)/2)"
   ]
  }
 ],
 "metadata": {
  "interpreter": {
   "hash": "f8bbe703e4409461e5c1796f0c401e26e62f32801f1a5b19455b89c31c613fbe"
  },
  "kernelspec": {
   "display_name": "Python 3.8.5 ('base')",
   "language": "python",
   "name": "python3"
  },
  "language_info": {
   "codemirror_mode": {
    "name": "ipython",
    "version": 3
   },
   "file_extension": ".py",
   "mimetype": "text/x-python",
   "name": "python",
   "nbconvert_exporter": "python",
   "pygments_lexer": "ipython3",
   "version": "3.8.5"
  },
  "orig_nbformat": 4
 },
 "nbformat": 4,
 "nbformat_minor": 2
}
