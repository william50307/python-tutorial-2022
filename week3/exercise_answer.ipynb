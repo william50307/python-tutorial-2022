{
 "cells": [
  {
   "cell_type": "markdown",
   "metadata": {},
   "source": [
    "1. 這段程式應該要印出[1, 2, 3, 4, 5, 6]，請修正所有bugs，請注意不要改動到before list\n",
    "\n",
    "    ```python\n",
    "    before = [[1, 2], [3, 4], [5, 6]]\n",
    "    after = []\n",
    "    for number in before:\n",
    "        after.append(number)\n",
    "    print(after)\n",
    "    ```"
   ]
  },
  {
   "cell_type": "code",
   "execution_count": 1,
   "metadata": {},
   "outputs": [
    {
     "name": "stdout",
     "output_type": "stream",
     "text": [
      "[1, 2, 3, 4, 5, 6]\n"
     ]
    }
   ],
   "source": [
    "before = [[1, 2], [3, 4], [5, 6]]\n",
    "after = []\n",
    "for x, y in before:\n",
    "    after.append(x)\n",
    "    after.append(y)\n",
    "print(after)"
   ]
  },
  {
   "cell_type": "markdown",
   "metadata": {},
   "source": [
    "2. 這段程式要將lists中所有項目轉換成整數int()，然後計算他們的總和(1+2+3)\n",
    "\n",
    "    ```python\n",
    "    inputs = ['1', '2', '3']\n",
    "\n",
    "    # 請完成程式\n",
    "    ...\n",
    "    ```"
   ]
  },
  {
   "cell_type": "code",
   "execution_count": 4,
   "metadata": {},
   "outputs": [
    {
     "data": {
      "text/plain": [
       "6"
      ]
     },
     "execution_count": 4,
     "metadata": {},
     "output_type": "execute_result"
    }
   ],
   "source": [
    "inputs = ['1', '2', '3']\n",
    "sum = 0\n",
    "for x in inputs:\n",
    "  sum += int(x) # 記得轉換資料型態(casting)\n",
    "sum"
   ]
  },
  {
   "cell_type": "markdown",
   "metadata": {},
   "source": [
    "3. 請寫一段程式印出底下的ouput \n",
    "\n",
    "    tips : 如果不希望print自動換行，可以加入一個參數print(value, end=' ')\n",
    "\n",
    "    ```python\n",
    "    1 \n",
    "    1 2 \n",
    "    1 2 3 \n",
    "    1 2 3 4 \n",
    "    1 2 3 4 5 \n",
    "    ```"
   ]
  },
  {
   "cell_type": "code",
   "execution_count": 5,
   "metadata": {},
   "outputs": [
    {
     "name": "stdout",
     "output_type": "stream",
     "text": [
      "1 \n",
      "1 2 \n",
      "1 2 3 \n",
      "1 2 3 4 \n",
      "1 2 3 4 5 \n"
     ]
    }
   ],
   "source": [
    "for i in range(1,6): #第幾行\n",
    "    for j in range(1,i+1): #end記得+1\n",
    "        print(j, end=' ')\n",
    "    print()"
   ]
  },
  {
   "cell_type": "markdown",
   "metadata": {},
   "source": [
    "4. 請寫一段程式印出底下的ouput，並讓使用者可以輸入想要印出幾個row\n",
    "\n",
    "    ```python\n",
    "    1 2 3 4 5 \n",
    "    2 3 4 5 \n",
    "    3 4 5 \n",
    "    4 5 \n",
    "    5 \n",
    "    ```"
   ]
  },
  {
   "cell_type": "code",
   "execution_count": 6,
   "metadata": {},
   "outputs": [
    {
     "name": "stdout",
     "output_type": "stream",
     "text": [
      "1 2 3 4 5 6 7 8 \n",
      "2 3 4 5 6 7 8 \n",
      "3 4 5 6 7 8 \n",
      "4 5 6 7 8 \n",
      "5 6 7 8 \n",
      "6 7 8 \n",
      "7 8 \n",
      "8 \n"
     ]
    }
   ],
   "source": [
    "rows = int(input('please input the rows number: '))\n",
    "for i in range(1, rows+1):\n",
    "    for j in range(i,rows+1):\n",
    "        print(j, end=' ')\n",
    "    print()"
   ]
  },
  {
   "cell_type": "markdown",
   "metadata": {},
   "source": [
    "5. Count the total number of digits in a number，例如56789總共有五位數"
   ]
  },
  {
   "cell_type": "code",
   "execution_count": 10,
   "metadata": {},
   "outputs": [
    {
     "name": "stdout",
     "output_type": "stream",
     "text": [
      "input number : 12391283\n",
      "total digits : 8\n"
     ]
    }
   ],
   "source": [
    "x = int(input('please input a number:'))\n",
    "print('input number :', x)\n",
    "count = 0\n",
    "while x:\n",
    "    x //= 10\n",
    "    count += 1\n",
    "print('total digits :', count)"
   ]
  },
  {
   "cell_type": "markdown",
   "metadata": {},
   "source": [
    "1. Create a program that prints all letters from A to Z and a to z next to each other:\n",
    "\n",
    "    ```\n",
    "    A a\n",
    "    B b\n",
    "    C c\n",
    "    ...\n",
    "    X x\n",
    "    Y y\n",
    "    Z z\n",
    "    ```\n",
    "\n",
    "請從這兩行開始...\n",
    "```python\n",
    "uppercase = 'ABCDEFGHIJKLMNOPQRSTUVWXYZ'\n",
    "lowercase = 'abcdefghijklmnopqrstuvwxyz'\n",
    "```"
   ]
  },
  {
   "cell_type": "code",
   "execution_count": 11,
   "metadata": {},
   "outputs": [
    {
     "name": "stdout",
     "output_type": "stream",
     "text": [
      "A a\n",
      "B b\n",
      "C c\n",
      "D d\n",
      "E e\n",
      "F f\n",
      "G g\n",
      "H h\n",
      "I i\n",
      "J j\n",
      "K k\n",
      "L l\n",
      "M m\n",
      "N n\n",
      "O o\n",
      "P p\n",
      "Q q\n",
      "R r\n",
      "S s\n",
      "T t\n",
      "U u\n",
      "V v\n",
      "W w\n",
      "X x\n",
      "Y y\n",
      "Z z\n"
     ]
    }
   ],
   "source": [
    "uppercase = 'ABCDEFGHIJKLMNOPQRSTUVWXYZ'\n",
    "lowercase = 'abcdefghijklmnopqrstuvwxyz'\n",
    "for a, b in zip(uppercase, lowercase):\n",
    "    print(a, b)"
   ]
  },
  {
   "cell_type": "markdown",
   "metadata": {},
   "source": [
    "### 進階題\n",
    "\n",
    "1. 印出2~100中所有的質數"
   ]
  },
  {
   "cell_type": "code",
   "execution_count": 13,
   "metadata": {},
   "outputs": [
    {
     "name": "stdout",
     "output_type": "stream",
     "text": [
      "2 3 5 7 11 13 17 19 23 29 31 37 41 43 47 53 59 61 67 71 73 79 83 89 97 "
     ]
    }
   ],
   "source": [
    "for x in range(2,101):\n",
    "    flag = True\n",
    "    for i in range(2,x//2+1):\n",
    "        if x % i == 0:\n",
    "            flag = False\n",
    "            break\n",
    "    if flag:\n",
    "        print(x, end=' ')"
   ]
  },
  {
   "cell_type": "markdown",
   "metadata": {},
   "source": [
    "2. 印出費式數列中第10項 "
   ]
  },
  {
   "cell_type": "code",
   "execution_count": 16,
   "metadata": {},
   "outputs": [
    {
     "name": "stdout",
     "output_type": "stream",
     "text": [
      "55\n"
     ]
    }
   ],
   "source": [
    "a1, a2 = 1, 1\n",
    "for i in range(3, 11):\n",
    "    c = a1 + a2\n",
    "    a1 = a2\n",
    "    a2 = c\n",
    "print(a2)"
   ]
  },
  {
   "cell_type": "markdown",
   "metadata": {},
   "source": [
    "3. 反轉一個整數，例如:輸入3584，輸出4853"
   ]
  },
  {
   "cell_type": "code",
   "execution_count": 19,
   "metadata": {},
   "outputs": [
    {
     "name": "stdout",
     "output_type": "stream",
     "text": [
      "input number : 12345\n",
      "result : 54321\n"
     ]
    }
   ],
   "source": [
    "inputs = int(input('plase enter a number :'))\n",
    "print('input number :', inputs)\n",
    "result = 0\n",
    "while inputs:\n",
    "    result *= 10\n",
    "    result += inputs%10\n",
    "    inputs //= 10\n",
    "print('result :', result)"
   ]
  }
 ],
 "metadata": {
  "interpreter": {
   "hash": "8fac594bfae6525c0c41b4041d2d72effa188cc8ead05f81b1fab2bb098927fb"
  },
  "kernelspec": {
   "display_name": "Python 3.8.3 ('base')",
   "language": "python",
   "name": "python3"
  },
  "language_info": {
   "codemirror_mode": {
    "name": "ipython",
    "version": 3
   },
   "file_extension": ".py",
   "mimetype": "text/x-python",
   "name": "python",
   "nbconvert_exporter": "python",
   "pygments_lexer": "ipython3",
   "version": "3.8.3"
  },
  "orig_nbformat": 4
 },
 "nbformat": 4,
 "nbformat_minor": 2
}
